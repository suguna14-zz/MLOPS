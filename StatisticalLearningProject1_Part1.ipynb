{
 "cells": [
  {
   "cell_type": "code",
   "execution_count": null,
   "metadata": {},
   "outputs": [],
   "source": [
    "print(\"Question -- 1\")\n",
    "print(\"1.Probability of the people who planned to purchase and actually placed an order is 400/2000\")\n",
    "print(\"2.Probability of the people who planned to purchase and actually placed an order, given that people planned to purchase is 400/500\")"
   ]
  },
  {
   "cell_type": "code",
   "execution_count": 15,
   "metadata": {},
   "outputs": [],
   "source": [
    "import numpy as np\n",
    "import scipy.stats as stats\n",
    "import pandas as pd\n",
    "import matplotlib.pyplot as plt\n",
    "\n",
    "from scipy.stats import binom\n",
    "\n",
    "n = 10\n",
    "p = 0.05\n",
    "k = np.arange(0,11)"
   ]
  },
  {
   "cell_type": "code",
   "execution_count": 16,
   "metadata": {},
   "outputs": [
    {
     "data": {
      "text/plain": [
       "array([5.98736939e-01, 3.15124705e-01, 7.46347985e-02, 1.04750594e-02,\n",
       "       9.64808106e-04, 6.09352488e-05, 2.67259863e-06, 8.03789063e-08,\n",
       "       1.58642578e-09, 1.85546875e-11, 9.76562500e-14])"
      ]
     },
     "execution_count": 16,
     "metadata": {},
     "output_type": "execute_result"
    }
   ],
   "source": [
    "binomial = stats.binom.pmf(k,n,p)\n",
    "binomial"
   ]
  },
  {
   "cell_type": "code",
   "execution_count": 24,
   "metadata": {},
   "outputs": [
    {
     "name": "stdout",
     "output_type": "stream",
     "text": [
      "Question -- 2\n",
      " Probability that none of the items are defective 0.5987369392383789\n"
     ]
    }
   ],
   "source": [
    "print(\"Question -- 2\")\n",
    "print(\" Probability that none of the items are defective\", binomial[0]   )"
   ]
  },
  {
   "cell_type": "code",
   "execution_count": 13,
   "metadata": {},
   "outputs": [
    {
     "name": "stdout",
     "output_type": "stream",
     "text": [
      "Probability that exactly one of the items is defective:  0.31512470486230504\n"
     ]
    }
   ],
   "source": [
    "print(\"Probability that exactly one of the items is defective: \", binomial[1])"
   ]
  },
  {
   "cell_type": "code",
   "execution_count": 18,
   "metadata": {},
   "outputs": [
    {
     "data": {
      "text/plain": [
       "array([0.59873694, 0.91386164, 0.98849644, 0.9989715 , 0.99993631,\n",
       "       0.99999725, 0.99999992, 1.        , 1.        , 1.        ,\n",
       "       1.        ])"
      ]
     },
     "execution_count": 18,
     "metadata": {},
     "output_type": "execute_result"
    }
   ],
   "source": [
    "cumbinomial = stats.binom.cdf(k,n,p)\n",
    "cumbinomial"
   ]
  },
  {
   "cell_type": "code",
   "execution_count": 22,
   "metadata": {},
   "outputs": [
    {
     "name": "stdout",
     "output_type": "stream",
     "text": [
      "Probability that two or fewer of the items are defective:  0.9884964426207031\n"
     ]
    }
   ],
   "source": [
    "print(\"Probability that two or fewer of the items are defective: \", cumbinomial[2])"
   ]
  },
  {
   "cell_type": "code",
   "execution_count": 23,
   "metadata": {},
   "outputs": [
    {
     "name": "stdout",
     "output_type": "stream",
     "text": [
      "Probability that three or more of the items are defective:  0.01150355737929687\n"
     ]
    }
   ],
   "source": [
    "print(\"Probability that three or more of the items are defective: \", 1-cumbinomial[2])"
   ]
  },
  {
   "cell_type": "code",
   "execution_count": 46,
   "metadata": {},
   "outputs": [
    {
     "name": "stdout",
     "output_type": "stream",
     "text": [
      "Question -- 3\n"
     ]
    },
    {
     "data": {
      "text/plain": [
       "array([0.04978707, 0.14936121, 0.22404181, 0.22404181, 0.16803136,\n",
       "       0.10081881, 0.05040941, 0.02160403, 0.00810151, 0.0027005 ])"
      ]
     },
     "execution_count": 46,
     "metadata": {},
     "output_type": "execute_result"
    }
   ],
   "source": [
    "print(\"Question -- 3\")\n",
    "\n",
    "rate = 3\n",
    "n = np.arange(0,10)\n",
    "\n",
    "poisson = stats.poisson.pmf(n,rate)\n",
    "\n",
    "poisson"
   ]
  },
  {
   "cell_type": "code",
   "execution_count": 40,
   "metadata": {},
   "outputs": [
    {
     "name": "stdout",
     "output_type": "stream",
     "text": [
      "Probability that in a given week he will sell some cars:  0.950212931632136\n"
     ]
    }
   ],
   "source": [
    "print(\"Probability that in a given week he will sell some cars: \", 1-poisson[0])"
   ]
  },
  {
   "cell_type": "code",
   "execution_count": 41,
   "metadata": {},
   "outputs": [
    {
     "name": "stdout",
     "output_type": "stream",
     "text": [
      "Probability that in a given week he will sell 2 or more but less than 5 cars:  0.6161149710523164\n"
     ]
    }
   ],
   "source": [
    "b = poisson[4] + poisson[3] + poisson[2]\n",
    "print(\"Probability that in a given week he will sell 2 or more but less than 5 cars: \", b )"
   ]
  },
  {
   "cell_type": "code",
   "execution_count": 45,
   "metadata": {},
   "outputs": [
    {
     "data": {
      "image/png": "[encoded data removed]",
      "text/plain": [
       "<Figure size 432x288 with 1 Axes>"
      ]
     },
     "metadata": {
      "needs_background": "light"
     },
     "output_type": "display_data"
    }
   ],
   "source": [
    "plt.plot(n, poisson, 'o-')\n",
    "plt.xlabel(\"Number of cars sold per-week\")\n",
    "plt.ylabel(\"Probability of cars sold per-week\")\n",
    "plt.show()"
   ]
  },
  {
   "cell_type": "code",
   "execution_count": 49,
   "metadata": {},
   "outputs": [
    {
     "name": "stdout",
     "output_type": "stream",
     "text": [
      "Question -- 4\n"
     ]
    },
    {
     "data": {
      "text/plain": [
       "array([0.00229997, 0.0453721 , 0.2983559 , 0.65397203])"
      ]
     },
     "execution_count": 49,
     "metadata": {},
     "output_type": "execute_result"
    }
   ],
   "source": [
    "print(\"Question -- 4\")\n",
    "\n",
    "k4 = np.arange(0,4)\n",
    "n4 = 3\n",
    "p4= 0.868\n",
    "\n",
    "bi4 = stats.binom.pmf(k4, n4, p4)\n",
    "bi4"
   ]
  },
  {
   "cell_type": "code",
   "execution_count": 50,
   "metadata": {},
   "outputs": [
    {
     "name": "stdout",
     "output_type": "stream",
     "text": [
      "Probability that all three orders will be recognised correctly:  0.653972032\n"
     ]
    }
   ],
   "source": [
    "print(\"Probability that all three orders will be recognised correctly: \", bi4[3])"
   ]
  },
  {
   "cell_type": "code",
   "execution_count": 51,
   "metadata": {},
   "outputs": [
    {
     "name": "stdout",
     "output_type": "stream",
     "text": [
      "probability that none of the three orders will be recognised correctly:  0.002299968\n"
     ]
    }
   ],
   "source": [
    "print (\"Probability that none of the three orders will be recognised correctly: \", bi4[0])"
   ]
  },
  {
   "cell_type": "code",
   "execution_count": 53,
   "metadata": {},
   "outputs": [
    {
     "name": "stdout",
     "output_type": "stream",
     "text": [
      "Probability that at least two of the three orders will be recognised correctly:  0.952327936\n"
     ]
    }
   ],
   "source": [
    "cumu4 = stats.binom.cdf(k4, n4, p4)\n",
    "\n",
    "print(\"Probability that at least two of the three orders will be recognised correctly: \", (1-cumu4[1]))"
   ]
  },
  {
   "cell_type": "code",
   "execution_count": 124,
   "metadata": {},
   "outputs": [
    {
     "name": "stdout",
     "output_type": "stream",
     "text": [
      "Question -- 5\n",
      "0.17\n",
      "Percentage of students who score more than 80:  17%\n"
     ]
    }
   ],
   "source": [
    "print(\"Question -- 5\")\n",
    "m = 60\n",
    "sd = 12\n",
    "a= \"{:.2f}\".format((80-60)/120)\n",
    "print(a)\n",
    "print('Percentage of students who score more than 80: ', \"{:.0%}\".format(float(a)))"
   ]
  },
  {
   "cell_type": "code",
   "execution_count": 127,
   "metadata": {},
   "outputs": [
    {
     "name": "stdout",
     "output_type": "stream",
     "text": [
      "-0.08\n",
      "Percentage of students who score more than 80:  -8%\n"
     ]
    }
   ],
   "source": [
    "b = \"{:.2f}\".format((50-60)/120)\n",
    "print(b)\n",
    "print('Percentage of students who score more than 80: ', \"{:.0%}\".format(float(b)))"
   ]
  },
  {
   "cell_type": "code",
   "execution_count": 138,
   "metadata": {},
   "outputs": [
    {
     "name": "stdout",
     "output_type": "stream",
     "text": [
      " Distinction mark if the highest 10% of students are to be awarded distinction is  75.38\n"
     ]
    }
   ],
   "source": [
    "\n",
    "#P[z > (x-60/12)] = 0.10\n",
    "#P[z > 1.282] = 0.10\n",
    "\n",
    "x=0\n",
    "\n",
    "[(x-60)/12] == 1.282\n",
    "x-60 == 15.384\n",
    "x = 15.384+60\n",
    "\n",
    "x = 75.38\n",
    "print(\" Distinction mark if the highest 10% of students are to be awarded distinction is \", x)"
   ]
  },
  {
   "cell_type": "code",
   "execution_count": null,
   "metadata": {},
   "outputs": [],
   "source": [
    "print(\"Question -- 6\")\n",
    "\n",
    "### Normal Distribution\n",
    "### In stock market, For stock returns, the standard deviation is often called volatility. \n",
    "### If returns are normally distributed, more than 99 percent of the returns are expected to \n",
    "### fall within the deviations of the mean value. Such characteristics of the bell-shaped normal distribution \n",
    "### allow analysts and investors to make statistical inferences about the expected return and risk of stocks.\n",
    "\n",
    "### Binomial Distribution is used in sampling shipments.  A quicker way to check whether the shipments have\n",
    "### only mentioned amount of defectives.  \n",
    "\n",
    "\n",
    "\n",
    "### Poisson Distribution can be used to check for adequate staffing, and to check whether its \n",
    "### profitable to open a store for 24 hrs etc., \n",
    "\n"
   ]
  }
 ],
 "metadata": {
  "kernelspec": {
   "display_name": "Python 3",
   "language": "python",
   "name": "python3"
  },
  "language_info": {
   "codemirror_mode": {
    "name": "ipython",
    "version": 3
   },
   "file_extension": ".py",
   "mimetype": "text/x-python",
   "name": "python",
   "nbconvert_exporter": "python",
   "pygments_lexer": "ipython3",
   "version": "3.8.5"
  }
 },
 "nbformat": 4,
 "nbformat_minor": 4
}

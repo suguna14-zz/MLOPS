{
 "cells": [
  {
   "cell_type": "markdown",
   "metadata": {
    "id": "XpiNDuT1aSmE"
   },
   "source": [
    "<img src=\"http://drive.google.com/uc?export=view&id=1tpOCamr9aWz817atPnyXus8w5gJ3mIts\" width=500px>"
   ]
  },
  {
   "cell_type": "markdown",
   "metadata": {
    "id": "_dozxZY_eSiO"
   },
   "source": [
    "# R1 External Lab\r\n",
    "## Topics:-\r\n",
    "- Lists, dictionaries, tuple, and sets in Python\r\n",
    "- Loops & Functions\r\n",
    "- Numpy and Pandas\r\n",
    "- Working with dataframes"
   ]
  },
  {
   "cell_type": "markdown",
   "metadata": {
    "id": "RXPuxkqpoStn"
   },
   "source": [
    "## **PART- I Python Basics - 5 points**"
   ]
  },
  {
   "cell_type": "markdown",
   "metadata": {
    "id": "JOjKK13naEWT"
   },
   "source": [
    "### Question 1\n",
    "​\n",
    "Write a program to sum all the items of a list. given list x=[5,3,8,9,14] expected o/p: 39"
   ]
  },
  {
   "cell_type": "code",
   "execution_count": 4,
   "metadata": {
    "id": "30gsSwgDaEWU"
   },
   "outputs": [
    {
     "name": "stdout",
     "output_type": "stream",
     "text": [
      "The sum of all numbers in the givenList is  39\n"
     ]
    }
   ],
   "source": [
    "givenList=[5,3,8,9,14]\n",
    "\n",
    "print(\"The sum of all numbers in the givenList is \", sum(givenList))"
   ]
  },
  {
   "cell_type": "markdown",
   "metadata": {
    "id": "BxSKTlElaEWW"
   },
   "source": [
    "### Question 2\n",
    "Write a program which will take two list X & Y as input and will return true if they have one common element. X=[1,2,3,4,5] Y=[5,6,7,8,9] output: The similar element is 5."
   ]
  },
  {
   "cell_type": "code",
   "execution_count": 9,
   "metadata": {
    "id": "HaWw7mk-aEWX"
   },
   "outputs": [
    {
     "name": "stdout",
     "output_type": "stream",
     "text": [
      "The common number between these two lists are  True\n"
     ]
    }
   ],
   "source": [
    "x=[1,2,3,4,5] \n",
    "y=[5,6,7,8,9]\n",
    "\n",
    "def func(x,y):\n",
    "    if (set(x).intersection(y)):\n",
    "        return True\n",
    "    else:\n",
    "        return False\n",
    "\n",
    "s = func(x,y)\n",
    "\n",
    "print(\"The common number between these two lists are \", s)"
   ]
  },
  {
   "cell_type": "markdown",
   "metadata": {
    "id": "M4PZc-XjaEWY"
   },
   "source": [
    "### Question 3\n",
    "\n",
    "- Append the given sequence of numbers to a list l \n",
    "- Count the occurances of an element in a given list\n",
    "\n",
    "l = [1,2,3,4,5,6,7,8]\n",
    "\n",
    "0,1,3,3,5,5,7,9\n",
    "\n",
    "Count the occurences of 5 in l."
   ]
  },
  {
   "cell_type": "code",
   "execution_count": 22,
   "metadata": {
    "id": "Np1yLppKaEWY"
   },
   "outputs": [
    {
     "name": "stdout",
     "output_type": "stream",
     "text": [
      "The number 5 occurs  3  times\n"
     ]
    }
   ],
   "source": [
    "import pandas as pd\n",
    "\n",
    "l = [1,2,3,4,5,6,7,8]\n",
    "\n",
    "l2 = [0,1,3,3,5,5,7,9]\n",
    "\n",
    "addedList = l + l2\n",
    "\n",
    "print(\"The number 5 occurs \", addedList.count(5) ,\" times\")"
   ]
  },
  {
   "cell_type": "markdown",
   "metadata": {
    "id": "S0iHLLZFaEWZ"
   },
   "source": [
    "### Question 4\n",
    "Write a program to generate all the permutations of a list without using loops. input: x=[2,5,8] Hint: Use itertools library. output: [(2, 5, 8), (2, 8, 5), (5, 2, 8), (5, 8, 2), (8, 2, 5), (8, 5, 2)]"
   ]
  },
  {
   "cell_type": "code",
   "execution_count": 23,
   "metadata": {
    "id": "i2KotT56aEWa"
   },
   "outputs": [
    {
     "name": "stdout",
     "output_type": "stream",
     "text": [
      "[(2, 5, 8), (2, 8, 5), (5, 2, 8), (5, 8, 2), (8, 2, 5), (8, 5, 2)]\n"
     ]
    }
   ],
   "source": [
    "from itertools import permutations\n",
    "\n",
    "print(list(permutations([2,5,8])))"
   ]
  },
  {
   "cell_type": "markdown",
   "metadata": {
    "id": "M17tGdEEaEWb"
   },
   "source": [
    "<h2>Dictionary </h2>"
   ]
  },
  {
   "cell_type": "markdown",
   "metadata": {
    "id": "e7EN__zRaEWb"
   },
   "source": [
    "### Question 5\n",
    "Write a program to fetch 'loss' from the below dictionary.\n",
    "\n",
    "d={'fruits':{'apple':100,'orange':{'good':1,'bad':{'buy':['loss','profit']}}}}"
   ]
  },
  {
   "cell_type": "code",
   "execution_count": 31,
   "metadata": {
    "id": "T9n-qrsMaEWc"
   },
   "outputs": [
    {
     "data": {
      "text/plain": [
       "'loss'"
      ]
     },
     "execution_count": 31,
     "metadata": {},
     "output_type": "execute_result"
    }
   ],
   "source": [
    "d={'fruits':{'apple':100,'orange':{'good':1,'bad':{'buy':['loss','profit']}}}}\n",
    "d['fruits']['orange']['bad']['buy'][0]"
   ]
  },
  {
   "cell_type": "markdown",
   "metadata": {
    "id": "mFlSkvLOaEWd"
   },
   "source": [
    "### Question 6\n",
    "Given a list of dictionary,\n",
    "list_dict=[{'apple':1},{'orange':2},{'pineapple':1},{'guava':3},{'strawberry':5}]\n",
    "Write a program to print all the unique values in the dictionary."
   ]
  },
  {
   "cell_type": "code",
   "execution_count": 45,
   "metadata": {
    "id": "e4vc0oJIaEWe"
   },
   "outputs": [
    {
     "data": {
      "text/plain": [
       "{1, 2, 3, 5}"
      ]
     },
     "execution_count": 45,
     "metadata": {},
     "output_type": "execute_result"
    }
   ],
   "source": [
    "list_dict= [{'apple':1},{'orange':2},{'pineapple':1},{'guava':3},{'strawberry':5}]\n",
    "\n",
    "s = set(value for dict in list_dict for value in dict.values())\n",
    "\n",
    "s"
   ]
  },
  {
   "cell_type": "markdown",
   "metadata": {
    "id": "0qX22xQIaEWe"
   },
   "source": [
    "<h2>Sets </h2>"
   ]
  },
  {
   "cell_type": "markdown",
   "metadata": {
    "id": "BbTtQn_maEWf"
   },
   "source": [
    "### Question 7\n",
    "Given two sets s1={5,8,3,6} s2={1,5.7,8.9} write a program to check whther the given two sets have any common element in them. Return True if there is no common element."
   ]
  },
  {
   "cell_type": "code",
   "execution_count": 83,
   "metadata": {
    "id": "sjzmMCzXaEWg"
   },
   "outputs": [
    {
     "data": {
      "text/plain": [
       "True"
      ]
     },
     "execution_count": 83,
     "metadata": {},
     "output_type": "execute_result"
    }
   ],
   "source": [
    "\n",
    "def se(s1, s2):\n",
    "    b = s1.intersection(s2)\n",
    "    return not bool(b)\n",
    "\n",
    "s1={5,8,3,6,9} \n",
    "s2={1,5.7,8.9}\n",
    "\n",
    "se(s1,s2)\n",
    "\n"
   ]
  },
  {
   "cell_type": "markdown",
   "metadata": {
    "id": "dRAR2TuWaEWg"
   },
   "source": [
    "<h1>Functions </h2>"
   ]
  },
  {
   "cell_type": "markdown",
   "metadata": {
    "id": "EUZ2bw1XaEWh"
   },
   "source": [
    "### Question 8\n",
    "Write a function to check whether a number is a perfect number. a perfect number is defined as the positive number in which sum of all positive divisors excluding the number itself is equal to that number.\n",
    "\n",
    "ex: 6 the divisor of 6 is 1,2,3 and 1+2+3=6 28 the divisors of 28 is 1,2,4,7,14 and 1+2+4+7+14=28"
   ]
  },
  {
   "cell_type": "code",
   "execution_count": 109,
   "metadata": {
    "id": "Q8QGSO1waEWi"
   },
   "outputs": [
    {
     "name": "stdin",
     "output_type": "stream",
     "text": [
      "Please enter a number:  28\n"
     ]
    },
    {
     "name": "stdout",
     "output_type": "stream",
     "text": [
      "Its a perfect number\n"
     ]
    }
   ],
   "source": [
    "def divFunc(n1):\n",
    "    addNumber = 0\n",
    "    for i in range(1, n1):\n",
    "        if(n1%i==0):\n",
    "            addNumber = addNumber + i\n",
    "    \n",
    "    if(n1==addNumber):\n",
    "        print(\"Its a perfect number\")\n",
    "    else: \n",
    "        print(\"Its not a perfect number\")\n",
    "    \n",
    " \n",
    "\n",
    "n=0\n",
    "n = int(input(\"Please enter a number: \"))\n",
    "divFunc(n)\n"
   ]
  },
  {
   "cell_type": "markdown",
   "metadata": {
    "id": "XOnEbuOXaEWi"
   },
   "source": [
    "### Question 9 (Optional)\n",
    "Write a program which will take two ranges rg1(i.e.2) and rg2(i.e.50) and it will return list of twin primes [(3, 5), (7, 41), (11, 43), (13, 17), (19, 29), (31,)].\n",
    "\n",
    "NOTE: ORDER SHOULD NOT MATTER."
   ]
  },
  {
   "cell_type": "code",
   "execution_count": 35,
   "metadata": {
    "id": "-2b_gB4taEWj"
   },
   "outputs": [
    {
     "name": "stdin",
     "output_type": "stream",
     "text": [
      "Please enter your first number 2\n",
      "Please enter your second number 50\n"
     ]
    },
    {
     "name": "stdout",
     "output_type": "stream",
     "text": [
      "[(3, 5), (5, 7), (11, 13), (17, 19), (29, 31), (41, 43)]\n"
     ]
    }
   ],
   "source": [
    "\n",
    "def isPrime(n1):\n",
    "    for i in range(2, n1):\n",
    "        if(n1%i == 0):\n",
    "            return False\n",
    "    return True\n",
    "        \n",
    "\n",
    "n1 = int(input(\"Please enter your first number\"))\n",
    "n2 = int(input(\"Please enter your second number\"))\n",
    "li = []\n",
    "\n",
    "for i in range(n1, n2):\n",
    "    j = i+2\n",
    "    if(isPrime(i) and isPrime(j)):\n",
    "        li.append((i,j))\n",
    "\n",
    "print(li)\n",
    "        "
   ]
  },
  {
   "cell_type": "markdown",
   "metadata": {
    "id": "d7eTOFQxaEWk"
   },
   "source": [
    "<h1>Lambda Functions </h1>"
   ]
  },
  {
   "cell_type": "markdown",
   "metadata": {
    "id": "qqhTJ3OLaEWk"
   },
   "source": [
    "Anonymous functions or no name functions, which can be considered when you use a function only once.\n",
    "\n",
    "Example:\n",
    "\n",
    "f = lambda x, y : x + y\n",
    "\n",
    "f(1,1)\n",
    "\n",
    "2"
   ]
  },
  {
   "cell_type": "markdown",
   "metadata": {
    "id": "91B-s2WMaEWl"
   },
   "source": [
    "### Question 10\n",
    " write a lambda function to filter all the odd numbers from a list.\n",
    " \n",
    " n_list=[101,100,103,96,94,89,72,110,99,88,76]"
   ]
  },
  {
   "cell_type": "code",
   "execution_count": 133,
   "metadata": {
    "id": "e4GgPYeOaEWn"
   },
   "outputs": [
    {
     "name": "stdout",
     "output_type": "stream",
     "text": [
      "[101, 103, 89]\n"
     ]
    }
   ],
   "source": [
    "n_list=[101,100,103,96,94,89,72,110,99,88,76]\n",
    "\n",
    "primeNo = list(filter(lambda i: all(i%j!=0 for j in range(2, i//2)), n_list))\n",
    "\n",
    "print(primeNo)\n"
   ]
  },
  {
   "cell_type": "markdown",
   "metadata": {
    "id": "TcGQBiIBoGj_"
   },
   "source": [
    "## **PART- II Numpy & Pandas - 5 points**"
   ]
  },
  {
   "cell_type": "markdown",
   "metadata": {
    "id": "LLl2CcyOaEWo"
   },
   "source": [
    "<h2>Numpy </h2>"
   ]
  },
  {
   "cell_type": "markdown",
   "metadata": {
    "id": "zvNnGNXKaEWo"
   },
   "source": [
    "We have seen python basic data structures in our last section. They are great but lack specialized features for data analysis. Like, adding roows, columns, operating on 2d matrices aren't readily available. So, we will use numpy for such functions.\n",
    "\n",
    "\n",
    "Numpy operates on nd arrays. These are similar to lists but contains homogenous elements but easier to store 2-d data."
   ]
  },
  {
   "cell_type": "code",
   "execution_count": null,
   "metadata": {
    "id": "0JeuWlghaEWp",
    "outputId": "b9e72fdb-a251-4511-f7df-cac86b7d89e5"
   },
   "outputs": [
    {
     "name": "stdout",
     "output_type": "stream",
     "text": [
      "[1 2 3 4]\n",
      "[[1 2 3 4]\n",
      " [5 6 7 8]]\n"
     ]
    }
   ],
   "source": [
    "import numpy as np\n",
    "\n",
    "l1 = [1,2,3,4]\n",
    "nd1 = np.array(l1)\n",
    "print(nd1)\n",
    "\n",
    "l2 = [5,6,7,8]\n",
    "nd2 = np.array([l1,l2])\n",
    "print(nd2)"
   ]
  },
  {
   "cell_type": "code",
   "execution_count": null,
   "metadata": {
    "id": "b4NdHRhiaEWr",
    "outputId": "9af49c39-6fdb-4036-98a1-227a84391c47"
   },
   "outputs": [
    {
     "name": "stdout",
     "output_type": "stream",
     "text": [
      "(2, 4)\n",
      "8\n",
      "int32\n"
     ]
    }
   ],
   "source": [
    "print(nd2.shape)\n",
    "\n",
    "print(nd2.size)\n",
    "\n",
    "print(nd2.dtype)"
   ]
  },
  {
   "cell_type": "markdown",
   "metadata": {
    "id": "aaGM7Wi1aEWu"
   },
   "source": [
    "### Question 1\n",
    "Generate an array of 2*10 which contains element from 0 to 20. calculate the 50th percentile of all the element of the array along the second axis.  \n",
    "\n",
    "Hint: Use  np.percentile()"
   ]
  },
  {
   "cell_type": "code",
   "execution_count": 152,
   "metadata": {
    "id": "kWhgemaqaEWu"
   },
   "outputs": [
    {
     "data": {
      "text/plain": [
       "array([ 4.5, 14.5])"
      ]
     },
     "execution_count": 152,
     "metadata": {},
     "output_type": "execute_result"
    }
   ],
   "source": [
    "import numpy as np\n",
    "\n",
    "x = np.arange(20)\n",
    "b = x.reshape(2,10)\n",
    "percent = np.percentile(b, 50, axis = 1)\n",
    "percent"
   ]
  },
  {
   "cell_type": "markdown",
   "metadata": {
    "id": "rWBfbssiaEWv"
   },
   "source": [
    "### Question 2\n",
    "\n",
    "We are provided with two list l1=[5,7,8] ,l2=[8,7,5]\n",
    "convert them into numpy array and calculate the covvariance matrix of the array."
   ]
  },
  {
   "cell_type": "code",
   "execution_count": 11,
   "metadata": {
    "id": "foDfr4OjaEWy"
   },
   "outputs": [
    {
     "name": "stdout",
     "output_type": "stream",
     "text": [
      "The numpy array \n",
      "[[5 7 8]\n",
      " [8 7 5]]\n",
      "The Co-variance \n",
      "[[ 2.33333333 -2.16666667]\n",
      " [-2.16666667  2.33333333]]\n"
     ]
    }
   ],
   "source": [
    "import numpy as np\n",
    "l1=[5,7,8] \n",
    "l2=[8,7,5]\n",
    "\n",
    "x = np.array([l1 ,l2])\n",
    "co_var = np.cov(x)\n",
    "\n",
    "print(\"The numpy array \")\n",
    "print( x)\n",
    "print(\"The Co-variance \")\n",
    "print( co_var)\n"
   ]
  },
  {
   "cell_type": "markdown",
   "metadata": {
    "id": "Wo6z3yhtaEWz"
   },
   "source": [
    "<h2>Pandas </h2>"
   ]
  },
  {
   "cell_type": "markdown",
   "metadata": {
    "id": "N1FjYJWiaEWz"
   },
   "source": [
    "- We have seen Numpy in the last section. It is good at performing math operation on 2d-arrays of numbers. But the major drawback is, it cannot deal with heterogenous values. So, Pandas dataframes are helpful in that aspect for storing different data types and referring the values like a dict in python instead of just referring each item with index."
   ]
  },
  {
   "cell_type": "markdown",
   "metadata": {
    "id": "lbXyz4XRaEW4"
   },
   "source": [
    "## Using Dataframe on a dataset"
   ]
  },
  {
   "cell_type": "markdown",
   "metadata": {
    "id": "agm2wYqUaEW5"
   },
   "source": [
    "For the below set of questions, we will be using the famous titanic disaster dataset.\n",
    "The dataset contains,\n",
    "- survived    whether the passenger has survived or not 0 = No, 1 = Yes\n",
    "- pclass      Class of the passenger\n",
    "- sex         Gender of the passenger\n",
    "- age         Age of the passenger\n",
    "- sibsp       # of siblings / spouses aboard the Titanic\n",
    "- parch       # of parents / children aboard the Titanic\n",
    "- fare        Passenger fare\n",
    "- embarked    Port of Embarkation like: C = Cherbourg, Q = Queenstown, S =        Southampton\n",
    "- deck        Deck data"
   ]
  },
  {
   "cell_type": "code",
   "execution_count": 2,
   "metadata": {
    "id": "izg9FXGbaEW5"
   },
   "outputs": [],
   "source": [
    "import pandas as pd\n",
    "df=pd.read_csv('/Users/Shiva/Desktop/python/titanic.csv')"
   ]
  },
  {
   "cell_type": "markdown",
   "metadata": {
    "id": "Ch1uAbcLaEW6"
   },
   "source": [
    "### Question 3\n",
    "Check the first 5 lines and last 5 lines of the given dataset- mtcars.\n",
    "\n",
    "Hint: use .head() and .tail()\n"
   ]
  },
  {
   "cell_type": "code",
   "execution_count": 180,
   "metadata": {
    "id": "1lq0rGG-aEW6"
   },
   "outputs": [
    {
     "data": {
      "text/html": [
       "<div>\n",
       "<style scoped>\n",
       "    .dataframe tbody tr th:only-of-type {\n",
       "        vertical-align: middle;\n",
       "    }\n",
       "\n",
       "    .dataframe tbody tr th {\n",
       "        vertical-align: top;\n",
       "    }\n",
       "\n",
       "    .dataframe thead th {\n",
       "        text-align: right;\n",
       "    }\n",
       "</style>\n",
       "<table border=\"1\" class=\"dataframe\">\n",
       "  <thead>\n",
       "    <tr style=\"text-align: right;\">\n",
       "      <th></th>\n",
       "      <th>survived</th>\n",
       "      <th>pclass</th>\n",
       "      <th>sex</th>\n",
       "      <th>age</th>\n",
       "      <th>sibsp</th>\n",
       "      <th>parch</th>\n",
       "      <th>fare</th>\n",
       "      <th>embarked</th>\n",
       "      <th>deck</th>\n",
       "    </tr>\n",
       "  </thead>\n",
       "  <tbody>\n",
       "    <tr>\n",
       "      <th>0</th>\n",
       "      <td>0</td>\n",
       "      <td>3</td>\n",
       "      <td>male</td>\n",
       "      <td>22.0</td>\n",
       "      <td>1</td>\n",
       "      <td>0</td>\n",
       "      <td>7.2500</td>\n",
       "      <td>S</td>\n",
       "      <td>NaN</td>\n",
       "    </tr>\n",
       "    <tr>\n",
       "      <th>1</th>\n",
       "      <td>1</td>\n",
       "      <td>1</td>\n",
       "      <td>female</td>\n",
       "      <td>38.0</td>\n",
       "      <td>1</td>\n",
       "      <td>0</td>\n",
       "      <td>71.2833</td>\n",
       "      <td>C</td>\n",
       "      <td>C</td>\n",
       "    </tr>\n",
       "    <tr>\n",
       "      <th>2</th>\n",
       "      <td>1</td>\n",
       "      <td>3</td>\n",
       "      <td>female</td>\n",
       "      <td>26.0</td>\n",
       "      <td>0</td>\n",
       "      <td>0</td>\n",
       "      <td>7.9250</td>\n",
       "      <td>S</td>\n",
       "      <td>NaN</td>\n",
       "    </tr>\n",
       "    <tr>\n",
       "      <th>3</th>\n",
       "      <td>1</td>\n",
       "      <td>1</td>\n",
       "      <td>female</td>\n",
       "      <td>35.0</td>\n",
       "      <td>1</td>\n",
       "      <td>0</td>\n",
       "      <td>53.1000</td>\n",
       "      <td>S</td>\n",
       "      <td>C</td>\n",
       "    </tr>\n",
       "    <tr>\n",
       "      <th>4</th>\n",
       "      <td>0</td>\n",
       "      <td>3</td>\n",
       "      <td>male</td>\n",
       "      <td>35.0</td>\n",
       "      <td>0</td>\n",
       "      <td>0</td>\n",
       "      <td>8.0500</td>\n",
       "      <td>S</td>\n",
       "      <td>NaN</td>\n",
       "    </tr>\n",
       "  </tbody>\n",
       "</table>\n",
       "</div>"
      ],
      "text/plain": [
       "   survived  pclass     sex   age  sibsp  parch     fare embarked deck\n",
       "0         0       3    male  22.0      1      0   7.2500        S  NaN\n",
       "1         1       1  female  38.0      1      0  71.2833        C    C\n",
       "2         1       3  female  26.0      0      0   7.9250        S  NaN\n",
       "3         1       1  female  35.0      1      0  53.1000        S    C\n",
       "4         0       3    male  35.0      0      0   8.0500        S  NaN"
      ]
     },
     "execution_count": 180,
     "metadata": {},
     "output_type": "execute_result"
    }
   ],
   "source": [
    "df.head()\n"
   ]
  },
  {
   "cell_type": "code",
   "execution_count": 181,
   "metadata": {},
   "outputs": [
    {
     "data": {
      "text/html": [
       "<div>\n",
       "<style scoped>\n",
       "    .dataframe tbody tr th:only-of-type {\n",
       "        vertical-align: middle;\n",
       "    }\n",
       "\n",
       "    .dataframe tbody tr th {\n",
       "        vertical-align: top;\n",
       "    }\n",
       "\n",
       "    .dataframe thead th {\n",
       "        text-align: right;\n",
       "    }\n",
       "</style>\n",
       "<table border=\"1\" class=\"dataframe\">\n",
       "  <thead>\n",
       "    <tr style=\"text-align: right;\">\n",
       "      <th></th>\n",
       "      <th>survived</th>\n",
       "      <th>pclass</th>\n",
       "      <th>sex</th>\n",
       "      <th>age</th>\n",
       "      <th>sibsp</th>\n",
       "      <th>parch</th>\n",
       "      <th>fare</th>\n",
       "      <th>embarked</th>\n",
       "      <th>deck</th>\n",
       "    </tr>\n",
       "  </thead>\n",
       "  <tbody>\n",
       "    <tr>\n",
       "      <th>886</th>\n",
       "      <td>0</td>\n",
       "      <td>2</td>\n",
       "      <td>male</td>\n",
       "      <td>27.0</td>\n",
       "      <td>0</td>\n",
       "      <td>0</td>\n",
       "      <td>13.00</td>\n",
       "      <td>S</td>\n",
       "      <td>NaN</td>\n",
       "    </tr>\n",
       "    <tr>\n",
       "      <th>887</th>\n",
       "      <td>1</td>\n",
       "      <td>1</td>\n",
       "      <td>female</td>\n",
       "      <td>19.0</td>\n",
       "      <td>0</td>\n",
       "      <td>0</td>\n",
       "      <td>30.00</td>\n",
       "      <td>S</td>\n",
       "      <td>B</td>\n",
       "    </tr>\n",
       "    <tr>\n",
       "      <th>888</th>\n",
       "      <td>0</td>\n",
       "      <td>3</td>\n",
       "      <td>female</td>\n",
       "      <td>NaN</td>\n",
       "      <td>1</td>\n",
       "      <td>2</td>\n",
       "      <td>23.45</td>\n",
       "      <td>S</td>\n",
       "      <td>NaN</td>\n",
       "    </tr>\n",
       "    <tr>\n",
       "      <th>889</th>\n",
       "      <td>1</td>\n",
       "      <td>1</td>\n",
       "      <td>male</td>\n",
       "      <td>26.0</td>\n",
       "      <td>0</td>\n",
       "      <td>0</td>\n",
       "      <td>30.00</td>\n",
       "      <td>C</td>\n",
       "      <td>C</td>\n",
       "    </tr>\n",
       "    <tr>\n",
       "      <th>890</th>\n",
       "      <td>0</td>\n",
       "      <td>3</td>\n",
       "      <td>male</td>\n",
       "      <td>32.0</td>\n",
       "      <td>0</td>\n",
       "      <td>0</td>\n",
       "      <td>7.75</td>\n",
       "      <td>Q</td>\n",
       "      <td>NaN</td>\n",
       "    </tr>\n",
       "  </tbody>\n",
       "</table>\n",
       "</div>"
      ],
      "text/plain": [
       "     survived  pclass     sex   age  sibsp  parch   fare embarked deck\n",
       "886         0       2    male  27.0      0      0  13.00        S  NaN\n",
       "887         1       1  female  19.0      0      0  30.00        S    B\n",
       "888         0       3  female   NaN      1      2  23.45        S  NaN\n",
       "889         1       1    male  26.0      0      0  30.00        C    C\n",
       "890         0       3    male  32.0      0      0   7.75        Q  NaN"
      ]
     },
     "execution_count": 181,
     "metadata": {},
     "output_type": "execute_result"
    }
   ],
   "source": [
    "df.tail()"
   ]
  },
  {
   "cell_type": "markdown",
   "metadata": {
    "id": "ZhUj3J3taEW7"
   },
   "source": [
    "### Question 4\n",
    "- Check the basic statistics of the columns\n",
    "- Check missing values"
   ]
  },
  {
   "cell_type": "code",
   "execution_count": 183,
   "metadata": {},
   "outputs": [
    {
     "data": {
      "text/html": [
       "<div>\n",
       "<style scoped>\n",
       "    .dataframe tbody tr th:only-of-type {\n",
       "        vertical-align: middle;\n",
       "    }\n",
       "\n",
       "    .dataframe tbody tr th {\n",
       "        vertical-align: top;\n",
       "    }\n",
       "\n",
       "    .dataframe thead th {\n",
       "        text-align: right;\n",
       "    }\n",
       "</style>\n",
       "<table border=\"1\" class=\"dataframe\">\n",
       "  <thead>\n",
       "    <tr style=\"text-align: right;\">\n",
       "      <th></th>\n",
       "      <th>survived</th>\n",
       "      <th>pclass</th>\n",
       "      <th>age</th>\n",
       "      <th>sibsp</th>\n",
       "      <th>parch</th>\n",
       "      <th>fare</th>\n",
       "    </tr>\n",
       "  </thead>\n",
       "  <tbody>\n",
       "    <tr>\n",
       "      <th>count</th>\n",
       "      <td>891.000000</td>\n",
       "      <td>891.000000</td>\n",
       "      <td>714.000000</td>\n",
       "      <td>891.000000</td>\n",
       "      <td>891.000000</td>\n",
       "      <td>891.000000</td>\n",
       "    </tr>\n",
       "    <tr>\n",
       "      <th>mean</th>\n",
       "      <td>0.383838</td>\n",
       "      <td>2.308642</td>\n",
       "      <td>29.699118</td>\n",
       "      <td>0.523008</td>\n",
       "      <td>0.381594</td>\n",
       "      <td>32.204208</td>\n",
       "    </tr>\n",
       "    <tr>\n",
       "      <th>std</th>\n",
       "      <td>0.486592</td>\n",
       "      <td>0.836071</td>\n",
       "      <td>14.526497</td>\n",
       "      <td>1.102743</td>\n",
       "      <td>0.806057</td>\n",
       "      <td>49.693429</td>\n",
       "    </tr>\n",
       "    <tr>\n",
       "      <th>min</th>\n",
       "      <td>0.000000</td>\n",
       "      <td>1.000000</td>\n",
       "      <td>0.420000</td>\n",
       "      <td>0.000000</td>\n",
       "      <td>0.000000</td>\n",
       "      <td>0.000000</td>\n",
       "    </tr>\n",
       "    <tr>\n",
       "      <th>25%</th>\n",
       "      <td>0.000000</td>\n",
       "      <td>2.000000</td>\n",
       "      <td>20.125000</td>\n",
       "      <td>0.000000</td>\n",
       "      <td>0.000000</td>\n",
       "      <td>7.910400</td>\n",
       "    </tr>\n",
       "    <tr>\n",
       "      <th>50%</th>\n",
       "      <td>0.000000</td>\n",
       "      <td>3.000000</td>\n",
       "      <td>28.000000</td>\n",
       "      <td>0.000000</td>\n",
       "      <td>0.000000</td>\n",
       "      <td>14.454200</td>\n",
       "    </tr>\n",
       "    <tr>\n",
       "      <th>75%</th>\n",
       "      <td>1.000000</td>\n",
       "      <td>3.000000</td>\n",
       "      <td>38.000000</td>\n",
       "      <td>1.000000</td>\n",
       "      <td>0.000000</td>\n",
       "      <td>31.000000</td>\n",
       "    </tr>\n",
       "    <tr>\n",
       "      <th>max</th>\n",
       "      <td>1.000000</td>\n",
       "      <td>3.000000</td>\n",
       "      <td>80.000000</td>\n",
       "      <td>8.000000</td>\n",
       "      <td>6.000000</td>\n",
       "      <td>512.329200</td>\n",
       "    </tr>\n",
       "  </tbody>\n",
       "</table>\n",
       "</div>"
      ],
      "text/plain": [
       "         survived      pclass         age       sibsp       parch        fare\n",
       "count  891.000000  891.000000  714.000000  891.000000  891.000000  891.000000\n",
       "mean     0.383838    2.308642   29.699118    0.523008    0.381594   32.204208\n",
       "std      0.486592    0.836071   14.526497    1.102743    0.806057   49.693429\n",
       "min      0.000000    1.000000    0.420000    0.000000    0.000000    0.000000\n",
       "25%      0.000000    2.000000   20.125000    0.000000    0.000000    7.910400\n",
       "50%      0.000000    3.000000   28.000000    0.000000    0.000000   14.454200\n",
       "75%      1.000000    3.000000   38.000000    1.000000    0.000000   31.000000\n",
       "max      1.000000    3.000000   80.000000    8.000000    6.000000  512.329200"
      ]
     },
     "execution_count": 183,
     "metadata": {},
     "output_type": "execute_result"
    }
   ],
   "source": [
    "df.describe()"
   ]
  },
  {
   "cell_type": "code",
   "execution_count": 224,
   "metadata": {
    "id": "qoOXd6RlaEW7"
   },
   "outputs": [
    {
     "data": {
      "text/plain": [
       "survived      0\n",
       "pclass        0\n",
       "sex           0\n",
       "age         177\n",
       "sibsp         0\n",
       "parch         0\n",
       "fare          0\n",
       "embarked      2\n",
       "deck        682\n",
       "dtype: int64"
      ]
     },
     "execution_count": 224,
     "metadata": {},
     "output_type": "execute_result"
    }
   ],
   "source": [
    "df.isnull().sum()"
   ]
  },
  {
   "cell_type": "markdown",
   "metadata": {
    "id": "9tcoYcXSaEW7"
   },
   "source": [
    "### Question 5\n",
    "How many males passsenger died in titanic?"
   ]
  },
  {
   "cell_type": "code",
   "execution_count": 267,
   "metadata": {
    "id": "RdKAPd_waEW8"
   },
   "outputs": [
    {
     "data": {
      "text/plain": [
       "468"
      ]
     },
     "execution_count": 267,
     "metadata": {},
     "output_type": "execute_result"
    }
   ],
   "source": [
    "df2 = df[df['sex']=='male']\n",
    "df3 = df2[df2['survived']==0]\n",
    "df3.shape[0]"
   ]
  },
  {
   "cell_type": "markdown",
   "metadata": {
    "id": "k22tKcNNaEW8"
   },
   "source": [
    "### Question 6\n",
    "Grab all the rows where the age is less than 1  and replace them with 1"
   ]
  },
  {
   "cell_type": "code",
   "execution_count": 283,
   "metadata": {
    "id": "WFYPvgYRaEW8"
   },
   "outputs": [],
   "source": [
    "df.loc[df['age'] < 1, 'age'] = 1"
   ]
  },
  {
   "cell_type": "markdown",
   "metadata": {
    "id": "3kSNDzDxaEW9"
   },
   "source": [
    "### Question 7\n",
    "Make a sub dataframe which consists of only sex and age column. Print the mean age of male and female using groupby function."
   ]
  },
  {
   "cell_type": "code",
   "execution_count": 14,
   "metadata": {
    "id": "U6LhIoO3aEW9"
   },
   "outputs": [
    {
     "data": {
      "text/html": [
       "<div>\n",
       "<style scoped>\n",
       "    .dataframe tbody tr th:only-of-type {\n",
       "        vertical-align: middle;\n",
       "    }\n",
       "\n",
       "    .dataframe tbody tr th {\n",
       "        vertical-align: top;\n",
       "    }\n",
       "\n",
       "    .dataframe thead th {\n",
       "        text-align: right;\n",
       "    }\n",
       "</style>\n",
       "<table border=\"1\" class=\"dataframe\">\n",
       "  <thead>\n",
       "    <tr style=\"text-align: right;\">\n",
       "      <th></th>\n",
       "      <th>age</th>\n",
       "    </tr>\n",
       "    <tr>\n",
       "      <th>sex</th>\n",
       "      <th></th>\n",
       "    </tr>\n",
       "  </thead>\n",
       "  <tbody>\n",
       "    <tr>\n",
       "      <th>female</th>\n",
       "      <td>27.915709</td>\n",
       "    </tr>\n",
       "    <tr>\n",
       "      <th>male</th>\n",
       "      <td>30.726645</td>\n",
       "    </tr>\n",
       "  </tbody>\n",
       "</table>\n",
       "</div>"
      ],
      "text/plain": [
       "              age\n",
       "sex              \n",
       "female  27.915709\n",
       "male    30.726645"
      ]
     },
     "execution_count": 14,
     "metadata": {},
     "output_type": "execute_result"
    }
   ],
   "source": [
    "df_sub = df[['sex', 'age']]\n",
    "df_sub.groupby('sex').mean()"
   ]
  },
  {
   "cell_type": "markdown",
   "metadata": {
    "id": "L-8nWWzuaEW9"
   },
   "source": [
    "### Question 8\n",
    "print the maximum value of age and fare for male and female separately using groupby.\n",
    "Outcome should have max age of female, max age of male, max fare of feamle, and max fare of male."
   ]
  },
  {
   "cell_type": "code",
   "execution_count": 15,
   "metadata": {
    "id": "SgN0rqC5aEW9"
   },
   "outputs": [
    {
     "data": {
      "text/html": [
       "<div>\n",
       "<style scoped>\n",
       "    .dataframe tbody tr th:only-of-type {\n",
       "        vertical-align: middle;\n",
       "    }\n",
       "\n",
       "    .dataframe tbody tr th {\n",
       "        vertical-align: top;\n",
       "    }\n",
       "\n",
       "    .dataframe thead th {\n",
       "        text-align: right;\n",
       "    }\n",
       "</style>\n",
       "<table border=\"1\" class=\"dataframe\">\n",
       "  <thead>\n",
       "    <tr style=\"text-align: right;\">\n",
       "      <th></th>\n",
       "      <th>fare</th>\n",
       "      <th>age</th>\n",
       "    </tr>\n",
       "    <tr>\n",
       "      <th>sex</th>\n",
       "      <th></th>\n",
       "      <th></th>\n",
       "    </tr>\n",
       "  </thead>\n",
       "  <tbody>\n",
       "    <tr>\n",
       "      <th>female</th>\n",
       "      <td>512.3292</td>\n",
       "      <td>63.0</td>\n",
       "    </tr>\n",
       "    <tr>\n",
       "      <th>male</th>\n",
       "      <td>512.3292</td>\n",
       "      <td>80.0</td>\n",
       "    </tr>\n",
       "  </tbody>\n",
       "</table>\n",
       "</div>"
      ],
      "text/plain": [
       "            fare   age\n",
       "sex                   \n",
       "female  512.3292  63.0\n",
       "male    512.3292  80.0"
      ]
     },
     "execution_count": 15,
     "metadata": {},
     "output_type": "execute_result"
    }
   ],
   "source": [
    "df.groupby('sex').agg({'fare': 'max', 'age': 'max'})\n"
   ]
  },
  {
   "cell_type": "markdown",
   "metadata": {
    "id": "mHc3Dj8ZaEW-"
   },
   "source": [
    "### Question 9\n",
    "Plot a countplot of the survived column and write tell the interpretations."
   ]
  },
  {
   "cell_type": "code",
   "execution_count": 319,
   "metadata": {
    "id": "usa8NSMyaEW-"
   },
   "outputs": [],
   "source": [
    "import matplotlib.pyplot as plt\n",
    "import seaborn as sns"
   ]
  },
  {
   "cell_type": "code",
   "execution_count": 321,
   "metadata": {
    "id": "vIZKnIMxaEW-"
   },
   "outputs": [
    {
     "data": {
      "text/plain": [
       "<AxesSubplot:xlabel='survived', ylabel='count'>"
      ]
     },
     "execution_count": 321,
     "metadata": {},
     "output_type": "execute_result"
    },
    {
     "data": {
      "image/png": "[encoded data removed]",
      "text/plain": [
       "<Figure size 432x288 with 1 Axes>"
      ]
     },
     "metadata": {
      "needs_background": "light"
     },
     "output_type": "display_data"
    }
   ],
   "source": [
    "sns.countplot(x='survived', data=df)\n",
    "\n",
    "##There are more deceased people than survived people.  "
   ]
  },
  {
   "cell_type": "markdown",
   "metadata": {
    "id": "zop_zhuUaEW_"
   },
   "source": [
    "### Question 10\n",
    "What is the approximate count of female in 3rd and 1st class."
   ]
  },
  {
   "cell_type": "code",
   "execution_count": 4,
   "metadata": {
    "id": "ojQsI6x6aEW_"
   },
   "outputs": [
    {
     "data": {
      "text/plain": [
       "238"
      ]
     },
     "execution_count": 4,
     "metadata": {},
     "output_type": "execute_result"
    }
   ],
   "source": [
    "df_sub=df[df['sex']==\"female\"]\n",
    "\n",
    "len(df_sub[df_sub['pclass'].isin([1,3])])"
   ]
  }
 ],
 "metadata": {
  "colab": {
   "collapsed_sections": [],
   "name": "R1 External Lab Question Notebook.ipynb",
   "provenance": []
  },
  "kernelspec": {
   "display_name": "Python 3",
   "language": "python",
   "name": "python3"
  },
  "language_info": {
   "codemirror_mode": {
    "name": "ipython",
    "version": 3
   },
   "file_extension": ".py",
   "mimetype": "text/x-python",
   "name": "python",
   "nbconvert_exporter": "python",
   "pygments_lexer": "ipython3",
   "version": "3.8.5"
  }
 },
 "nbformat": 4,
 "nbformat_minor": 4
}

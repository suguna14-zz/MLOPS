{
 "cells": [
  {
   "cell_type": "markdown",
   "metadata": {
    "id": "voTyNNZ_3aWU"
   },
   "source": [
    "# 1. Import the necessary libraries and read the provided CSVs as a data frame and perform the below steps."
   ]
  },
  {
   "cell_type": "code",
   "execution_count": 1,
   "metadata": {
    "executionInfo": {
     "elapsed": 2076,
     "status": "ok",
     "timestamp": 1639240875248,
     "user": {
      "displayName": "Suv",
      "photoUrl": "https://lh3.googleusercontent.com/a/default-user=s64",
      "userId": "02586372588688823238"
     },
     "user_tz": -330
    },
    "id": "s86C1Wna3dEs"
   },
   "outputs": [],
   "source": [
    "import numpy as np\n",
    "import pandas as pd\n",
    "import seaborn as sns\n",
    "import matplotlib.pyplot as plt\n",
    "import warnings\n",
    "warnings.filterwarnings('ignore')"
   ]
  },
  {
   "cell_type": "code",
   "execution_count": 2,
   "metadata": {
    "colab": {
     "base_uri": "https://localhost:8080/"
    },
    "executionInfo": {
     "elapsed": 36640,
     "status": "ok",
     "timestamp": 1639240916489,
     "user": {
      "displayName": "Suv",
      "photoUrl": "https://lh3.googleusercontent.com/a/default-user=s64",
      "userId": "02586372588688823238"
     },
     "user_tz": -330
    },
    "id": "8PtlTjedmxRk",
    "outputId": "90508978-1621-4533-de06-fc2fe50f90a9"
   },
   "outputs": [],
   "source": [
    "import surprise "
   ]
  },
  {
   "cell_type": "code",
   "execution_count": 3,
   "metadata": {
    "executionInfo": {
     "elapsed": 21444,
     "status": "ok",
     "timestamp": 1639241056945,
     "user": {
      "displayName": "Suv",
      "photoUrl": "https://lh3.googleusercontent.com/a/default-user=s64",
      "userId": "02586372588688823238"
     },
     "user_tz": -330
    },
    "id": "QRCs1iar3fdn"
   },
   "outputs": [],
   "source": [
    "# • Merge the provided CSVs into one data-frame.\n",
    "\n",
    "data1 = pd.read_csv(\"/Users/Shiva/Desktop/python/Projects/project6_Recommendation/Dataset/phone_user_review_file_1.csv\",encoding='ISO-8859-1',error_bad_lines=False, engine=\"python\")\n",
    "data2 = pd.read_csv(\"/Users/Shiva/Desktop/python/Projects/project6_Recommendation/Dataset/phone_user_review_file_2.csv\",encoding='ISO-8859-1',error_bad_lines=False, engine=\"python\")\n",
    "data3 = pd.read_csv(\"/Users/Shiva/Desktop/python/Projects/project6_Recommendation/Dataset/phone_user_review_file_3.csv\",encoding='ISO-8859-1',error_bad_lines=False, engine=\"python\")\n",
    "data4 = pd.read_csv(\"/Users/Shiva/Desktop/python/Projects/project6_Recommendation/Dataset/phone_user_review_file_4.csv\",encoding='ISO-8859-1',error_bad_lines=False, engine=\"python\")\n",
    "data5 = pd.read_csv(\"/Users/Shiva/Desktop/python/Projects/project6_Recommendation/Dataset/phone_user_review_file_5.csv\",encoding='ISO-8859-1',error_bad_lines=False, engine=\"python\")\n",
    "data6 = pd.read_csv(\"/Users/Shiva/Desktop/python/Projects/project6_Recommendation/Dataset/phone_user_review_file_6.csv\",encoding='ISO-8859-1',error_bad_lines=False, engine=\"python\")"
   ]
  },
  {
   "cell_type": "code",
   "execution_count": 4,
   "metadata": {
    "executionInfo": {
     "elapsed": 654,
     "status": "ok",
     "timestamp": 1639241057578,
     "user": {
      "displayName": "Suv",
      "photoUrl": "https://lh3.googleusercontent.com/a/default-user=s64",
      "userId": "02586372588688823238"
     },
     "user_tz": -330
    },
    "id": "6qQR8ZyU3inE"
   },
   "outputs": [],
   "source": [
    "data = pd.concat([data1, data2, data3, data4, data5,data6], ignore_index=True, sort=False)\n",
    "\n"
   ]
  },
  {
   "cell_type": "markdown",
   "metadata": {
    "id": "dOpM8rV_3mqr"
   },
   "source": [
    "#• Check a few observations and shape of the data-frame."
   ]
  },
  {
   "cell_type": "code",
   "execution_count": 5,
   "metadata": {
    "colab": {
     "base_uri": "https://localhost:8080/"
    },
    "executionInfo": {
     "elapsed": 639,
     "status": "ok",
     "timestamp": 1639241060212,
     "user": {
      "displayName": "Suv",
      "photoUrl": "https://lh3.googleusercontent.com/a/default-user=s64",
      "userId": "02586372588688823238"
     },
     "user_tz": -330
    },
    "id": "XD43joEQ3kjM",
    "outputId": "c630a011-c0db-4995-bca8-3fb2f7e38c82"
   },
   "outputs": [
    {
     "data": {
      "text/plain": [
       "(1415133, 11)"
      ]
     },
     "execution_count": 5,
     "metadata": {},
     "output_type": "execute_result"
    }
   ],
   "source": [
    "data.shape\n",
    "\n",
    "## all the dataframes have 11 columns"
   ]
  },
  {
   "cell_type": "code",
   "execution_count": 6,
   "metadata": {
    "colab": {
     "base_uri": "https://localhost:8080/",
     "height": 293
    },
    "executionInfo": {
     "elapsed": 371,
     "status": "ok",
     "timestamp": 1639241072426,
     "user": {
      "displayName": "Suv",
      "photoUrl": "https://lh3.googleusercontent.com/a/default-user=s64",
      "userId": "02586372588688823238"
     },
     "user_tz": -330
    },
    "id": "IWzmK-lW3puv",
    "outputId": "d21c3246-47c7-41fb-8007-8c897f84f58c"
   },
   "outputs": [
    {
     "data": {
      "text/html": [
       "<div>\n",
       "<style scoped>\n",
       "    .dataframe tbody tr th:only-of-type {\n",
       "        vertical-align: middle;\n",
       "    }\n",
       "\n",
       "    .dataframe tbody tr th {\n",
       "        vertical-align: top;\n",
       "    }\n",
       "\n",
       "    .dataframe thead th {\n",
       "        text-align: right;\n",
       "    }\n",
       "</style>\n",
       "<table border=\"1\" class=\"dataframe\">\n",
       "  <thead>\n",
       "    <tr style=\"text-align: right;\">\n",
       "      <th></th>\n",
       "      <th>phone_url</th>\n",
       "      <th>date</th>\n",
       "      <th>lang</th>\n",
       "      <th>country</th>\n",
       "      <th>source</th>\n",
       "      <th>domain</th>\n",
       "      <th>score</th>\n",
       "      <th>score_max</th>\n",
       "      <th>extract</th>\n",
       "      <th>author</th>\n",
       "      <th>product</th>\n",
       "    </tr>\n",
       "  </thead>\n",
       "  <tbody>\n",
       "    <tr>\n",
       "      <th>0</th>\n",
       "      <td>/cellphones/samsung-galaxy-s8/</td>\n",
       "      <td>5/2/2017</td>\n",
       "      <td>en</td>\n",
       "      <td>us</td>\n",
       "      <td>Verizon Wireless</td>\n",
       "      <td>verizonwireless.com</td>\n",
       "      <td>10.0</td>\n",
       "      <td>10.0</td>\n",
       "      <td>As a diehard Samsung fan who has had every Sam...</td>\n",
       "      <td>CarolAnn35</td>\n",
       "      <td>Samsung Galaxy S8</td>\n",
       "    </tr>\n",
       "    <tr>\n",
       "      <th>1</th>\n",
       "      <td>/cellphones/samsung-galaxy-s8/</td>\n",
       "      <td>4/28/2017</td>\n",
       "      <td>en</td>\n",
       "      <td>us</td>\n",
       "      <td>Phone Arena</td>\n",
       "      <td>phonearena.com</td>\n",
       "      <td>10.0</td>\n",
       "      <td>10.0</td>\n",
       "      <td>Love the phone. the phone is sleek and smooth ...</td>\n",
       "      <td>james0923</td>\n",
       "      <td>Samsung Galaxy S8</td>\n",
       "    </tr>\n",
       "    <tr>\n",
       "      <th>2</th>\n",
       "      <td>/cellphones/samsung-galaxy-s8/</td>\n",
       "      <td>5/4/2017</td>\n",
       "      <td>en</td>\n",
       "      <td>us</td>\n",
       "      <td>Amazon</td>\n",
       "      <td>amazon.com</td>\n",
       "      <td>6.0</td>\n",
       "      <td>10.0</td>\n",
       "      <td>Adequate feel. Nice heft. Processor's still sl...</td>\n",
       "      <td>R. Craig</td>\n",
       "      <td>Samsung Galaxy S8 (64GB) G950U 5.8\" 4G LTE Unl...</td>\n",
       "    </tr>\n",
       "    <tr>\n",
       "      <th>3</th>\n",
       "      <td>/cellphones/samsung-galaxy-s8/</td>\n",
       "      <td>5/2/2017</td>\n",
       "      <td>en</td>\n",
       "      <td>us</td>\n",
       "      <td>Samsung</td>\n",
       "      <td>samsung.com</td>\n",
       "      <td>9.2</td>\n",
       "      <td>10.0</td>\n",
       "      <td>Never disappointed. One of the reasons I've be...</td>\n",
       "      <td>Buster2020</td>\n",
       "      <td>Samsung Galaxy S8 64GB (AT&amp;T)</td>\n",
       "    </tr>\n",
       "    <tr>\n",
       "      <th>4</th>\n",
       "      <td>/cellphones/samsung-galaxy-s8/</td>\n",
       "      <td>5/11/2017</td>\n",
       "      <td>en</td>\n",
       "      <td>us</td>\n",
       "      <td>Verizon Wireless</td>\n",
       "      <td>verizonwireless.com</td>\n",
       "      <td>4.0</td>\n",
       "      <td>10.0</td>\n",
       "      <td>I've now found that i'm in a group of people t...</td>\n",
       "      <td>S Ate Mine</td>\n",
       "      <td>Samsung Galaxy S8</td>\n",
       "    </tr>\n",
       "  </tbody>\n",
       "</table>\n",
       "</div>"
      ],
      "text/plain": [
       "                        phone_url       date lang country            source  \\\n",
       "0  /cellphones/samsung-galaxy-s8/   5/2/2017   en      us  Verizon Wireless   \n",
       "1  /cellphones/samsung-galaxy-s8/  4/28/2017   en      us       Phone Arena   \n",
       "2  /cellphones/samsung-galaxy-s8/   5/4/2017   en      us            Amazon   \n",
       "3  /cellphones/samsung-galaxy-s8/   5/2/2017   en      us           Samsung   \n",
       "4  /cellphones/samsung-galaxy-s8/  5/11/2017   en      us  Verizon Wireless   \n",
       "\n",
       "                domain  score  score_max  \\\n",
       "0  verizonwireless.com   10.0       10.0   \n",
       "1       phonearena.com   10.0       10.0   \n",
       "2           amazon.com    6.0       10.0   \n",
       "3          samsung.com    9.2       10.0   \n",
       "4  verizonwireless.com    4.0       10.0   \n",
       "\n",
       "                                             extract       author  \\\n",
       "0  As a diehard Samsung fan who has had every Sam...   CarolAnn35   \n",
       "1  Love the phone. the phone is sleek and smooth ...    james0923   \n",
       "2  Adequate feel. Nice heft. Processor's still sl...     R. Craig   \n",
       "3  Never disappointed. One of the reasons I've be...  Buster2020    \n",
       "4  I've now found that i'm in a group of people t...   S Ate Mine   \n",
       "\n",
       "                                             product  \n",
       "0                                  Samsung Galaxy S8  \n",
       "1                                  Samsung Galaxy S8  \n",
       "2  Samsung Galaxy S8 (64GB) G950U 5.8\" 4G LTE Unl...  \n",
       "3                      Samsung Galaxy S8 64GB (AT&T)  \n",
       "4                                  Samsung Galaxy S8  "
      ]
     },
     "execution_count": 6,
     "metadata": {},
     "output_type": "execute_result"
    }
   ],
   "source": [
    "data.head()\n",
    "\n",
    "## the phone_url column is going to be difficult to work with \n",
    "## domain names should be checked properly to include valid names and user comments."
   ]
  },
  {
   "cell_type": "code",
   "execution_count": 7,
   "metadata": {
    "colab": {
     "base_uri": "https://localhost:8080/"
    },
    "executionInfo": {
     "elapsed": 1427,
     "status": "ok",
     "timestamp": 1639241077229,
     "user": {
      "displayName": "Suv",
      "photoUrl": "https://lh3.googleusercontent.com/a/default-user=s64",
      "userId": "02586372588688823238"
     },
     "user_tz": -330
    },
    "id": "DG-s18GD3tch",
    "outputId": "c09678f8-5e5f-40de-a329-b13f61480ff2"
   },
   "outputs": [
    {
     "name": "stdout",
     "output_type": "stream",
     "text": [
      "<class 'pandas.core.frame.DataFrame'>\n",
      "RangeIndex: 1415133 entries, 0 to 1415132\n",
      "Data columns (total 11 columns):\n",
      " #   Column     Non-Null Count    Dtype  \n",
      "---  ------     --------------    -----  \n",
      " 0   phone_url  1415133 non-null  object \n",
      " 1   date       1415133 non-null  object \n",
      " 2   lang       1415133 non-null  object \n",
      " 3   country    1415133 non-null  object \n",
      " 4   source     1415133 non-null  object \n",
      " 5   domain     1415133 non-null  object \n",
      " 6   score      1351644 non-null  float64\n",
      " 7   score_max  1351644 non-null  float64\n",
      " 8   extract    1395772 non-null  object \n",
      " 9   author     1351931 non-null  object \n",
      " 10  product    1415132 non-null  object \n",
      "dtypes: float64(2), object(9)\n",
      "memory usage: 118.8+ MB\n"
     ]
    }
   ],
   "source": [
    "data.info()\n",
    "\n",
    "## it has some null values.\n",
    "## almost all are object datatypes except two columns"
   ]
  },
  {
   "cell_type": "code",
   "execution_count": 8,
   "metadata": {
    "colab": {
     "base_uri": "https://localhost:8080/",
     "height": 300
    },
    "executionInfo": {
     "elapsed": 636,
     "status": "ok",
     "timestamp": 1639241077857,
     "user": {
      "displayName": "Suv",
      "photoUrl": "https://lh3.googleusercontent.com/a/default-user=s64",
      "userId": "02586372588688823238"
     },
     "user_tz": -330
    },
    "id": "Ni_smWCW3wXT",
    "outputId": "c283c9cd-6243-42ed-e7a7-732d39282958"
   },
   "outputs": [
    {
     "data": {
      "text/html": [
       "<div>\n",
       "<style scoped>\n",
       "    .dataframe tbody tr th:only-of-type {\n",
       "        vertical-align: middle;\n",
       "    }\n",
       "\n",
       "    .dataframe tbody tr th {\n",
       "        vertical-align: top;\n",
       "    }\n",
       "\n",
       "    .dataframe thead th {\n",
       "        text-align: right;\n",
       "    }\n",
       "</style>\n",
       "<table border=\"1\" class=\"dataframe\">\n",
       "  <thead>\n",
       "    <tr style=\"text-align: right;\">\n",
       "      <th></th>\n",
       "      <th>score</th>\n",
       "      <th>score_max</th>\n",
       "    </tr>\n",
       "  </thead>\n",
       "  <tbody>\n",
       "    <tr>\n",
       "      <th>count</th>\n",
       "      <td>1.351644e+06</td>\n",
       "      <td>1351644.0</td>\n",
       "    </tr>\n",
       "    <tr>\n",
       "      <th>mean</th>\n",
       "      <td>8.007060e+00</td>\n",
       "      <td>10.0</td>\n",
       "    </tr>\n",
       "    <tr>\n",
       "      <th>std</th>\n",
       "      <td>2.616121e+00</td>\n",
       "      <td>0.0</td>\n",
       "    </tr>\n",
       "    <tr>\n",
       "      <th>min</th>\n",
       "      <td>2.000000e-01</td>\n",
       "      <td>10.0</td>\n",
       "    </tr>\n",
       "    <tr>\n",
       "      <th>25%</th>\n",
       "      <td>7.200000e+00</td>\n",
       "      <td>10.0</td>\n",
       "    </tr>\n",
       "    <tr>\n",
       "      <th>50%</th>\n",
       "      <td>9.200000e+00</td>\n",
       "      <td>10.0</td>\n",
       "    </tr>\n",
       "    <tr>\n",
       "      <th>75%</th>\n",
       "      <td>1.000000e+01</td>\n",
       "      <td>10.0</td>\n",
       "    </tr>\n",
       "    <tr>\n",
       "      <th>max</th>\n",
       "      <td>1.000000e+01</td>\n",
       "      <td>10.0</td>\n",
       "    </tr>\n",
       "  </tbody>\n",
       "</table>\n",
       "</div>"
      ],
      "text/plain": [
       "              score  score_max\n",
       "count  1.351644e+06  1351644.0\n",
       "mean   8.007060e+00       10.0\n",
       "std    2.616121e+00        0.0\n",
       "min    2.000000e-01       10.0\n",
       "25%    7.200000e+00       10.0\n",
       "50%    9.200000e+00       10.0\n",
       "75%    1.000000e+01       10.0\n",
       "max    1.000000e+01       10.0"
      ]
     },
     "execution_count": 8,
     "metadata": {},
     "output_type": "execute_result"
    }
   ],
   "source": [
    "data.describe()\n",
    "\n",
    "## only 2 columns are float and its giving mean details only for them...\n",
    "## score_max is always 10...dont have how, maybe everyone have given to some phone 10 scores\n",
    "\n"
   ]
  },
  {
   "cell_type": "code",
   "execution_count": 9,
   "metadata": {
    "colab": {
     "base_uri": "https://localhost:8080/",
     "height": 293
    },
    "executionInfo": {
     "elapsed": 638,
     "status": "ok",
     "timestamp": 1639241080404,
     "user": {
      "displayName": "Suv",
      "photoUrl": "https://lh3.googleusercontent.com/a/default-user=s64",
      "userId": "02586372588688823238"
     },
     "user_tz": -330
    },
    "id": "D8Z2FdA13yoZ",
    "outputId": "b55d8e40-a2c5-4a97-dc31-82cfb77002b3"
   },
   "outputs": [
    {
     "data": {
      "text/html": [
       "<div>\n",
       "<style scoped>\n",
       "    .dataframe tbody tr th:only-of-type {\n",
       "        vertical-align: middle;\n",
       "    }\n",
       "\n",
       "    .dataframe tbody tr th {\n",
       "        vertical-align: top;\n",
       "    }\n",
       "\n",
       "    .dataframe thead th {\n",
       "        text-align: right;\n",
       "    }\n",
       "</style>\n",
       "<table border=\"1\" class=\"dataframe\">\n",
       "  <thead>\n",
       "    <tr style=\"text-align: right;\">\n",
       "      <th></th>\n",
       "      <th>phone_url</th>\n",
       "      <th>date</th>\n",
       "      <th>lang</th>\n",
       "      <th>country</th>\n",
       "      <th>source</th>\n",
       "      <th>domain</th>\n",
       "      <th>score</th>\n",
       "      <th>score_max</th>\n",
       "      <th>extract</th>\n",
       "      <th>author</th>\n",
       "      <th>product</th>\n",
       "    </tr>\n",
       "  </thead>\n",
       "  <tbody>\n",
       "    <tr>\n",
       "      <th>0</th>\n",
       "      <td>/cellphones/samsung-galaxy-s8/</td>\n",
       "      <td>5/2/2017</td>\n",
       "      <td>en</td>\n",
       "      <td>us</td>\n",
       "      <td>Verizon Wireless</td>\n",
       "      <td>verizonwireless.com</td>\n",
       "      <td>10.0</td>\n",
       "      <td>10.0</td>\n",
       "      <td>As a diehard Samsung fan who has had every Sam...</td>\n",
       "      <td>CarolAnn35</td>\n",
       "      <td>Samsung Galaxy S8</td>\n",
       "    </tr>\n",
       "    <tr>\n",
       "      <th>1</th>\n",
       "      <td>/cellphones/samsung-galaxy-s8/</td>\n",
       "      <td>4/28/2017</td>\n",
       "      <td>en</td>\n",
       "      <td>us</td>\n",
       "      <td>Phone Arena</td>\n",
       "      <td>phonearena.com</td>\n",
       "      <td>10.0</td>\n",
       "      <td>10.0</td>\n",
       "      <td>Love the phone. the phone is sleek and smooth ...</td>\n",
       "      <td>james0923</td>\n",
       "      <td>Samsung Galaxy S8</td>\n",
       "    </tr>\n",
       "    <tr>\n",
       "      <th>2</th>\n",
       "      <td>/cellphones/samsung-galaxy-s8/</td>\n",
       "      <td>5/4/2017</td>\n",
       "      <td>en</td>\n",
       "      <td>us</td>\n",
       "      <td>Amazon</td>\n",
       "      <td>amazon.com</td>\n",
       "      <td>6.0</td>\n",
       "      <td>10.0</td>\n",
       "      <td>Adequate feel. Nice heft. Processor's still sl...</td>\n",
       "      <td>R. Craig</td>\n",
       "      <td>Samsung Galaxy S8 (64GB) G950U 5.8\" 4G LTE Unl...</td>\n",
       "    </tr>\n",
       "    <tr>\n",
       "      <th>3</th>\n",
       "      <td>/cellphones/samsung-galaxy-s8/</td>\n",
       "      <td>5/2/2017</td>\n",
       "      <td>en</td>\n",
       "      <td>us</td>\n",
       "      <td>Samsung</td>\n",
       "      <td>samsung.com</td>\n",
       "      <td>9.0</td>\n",
       "      <td>10.0</td>\n",
       "      <td>Never disappointed. One of the reasons I've be...</td>\n",
       "      <td>Buster2020</td>\n",
       "      <td>Samsung Galaxy S8 64GB (AT&amp;T)</td>\n",
       "    </tr>\n",
       "    <tr>\n",
       "      <th>4</th>\n",
       "      <td>/cellphones/samsung-galaxy-s8/</td>\n",
       "      <td>5/11/2017</td>\n",
       "      <td>en</td>\n",
       "      <td>us</td>\n",
       "      <td>Verizon Wireless</td>\n",
       "      <td>verizonwireless.com</td>\n",
       "      <td>4.0</td>\n",
       "      <td>10.0</td>\n",
       "      <td>I've now found that i'm in a group of people t...</td>\n",
       "      <td>S Ate Mine</td>\n",
       "      <td>Samsung Galaxy S8</td>\n",
       "    </tr>\n",
       "  </tbody>\n",
       "</table>\n",
       "</div>"
      ],
      "text/plain": [
       "                        phone_url       date lang country            source  \\\n",
       "0  /cellphones/samsung-galaxy-s8/   5/2/2017   en      us  Verizon Wireless   \n",
       "1  /cellphones/samsung-galaxy-s8/  4/28/2017   en      us       Phone Arena   \n",
       "2  /cellphones/samsung-galaxy-s8/   5/4/2017   en      us            Amazon   \n",
       "3  /cellphones/samsung-galaxy-s8/   5/2/2017   en      us           Samsung   \n",
       "4  /cellphones/samsung-galaxy-s8/  5/11/2017   en      us  Verizon Wireless   \n",
       "\n",
       "                domain  score  score_max  \\\n",
       "0  verizonwireless.com   10.0       10.0   \n",
       "1       phonearena.com   10.0       10.0   \n",
       "2           amazon.com    6.0       10.0   \n",
       "3          samsung.com    9.0       10.0   \n",
       "4  verizonwireless.com    4.0       10.0   \n",
       "\n",
       "                                             extract       author  \\\n",
       "0  As a diehard Samsung fan who has had every Sam...   CarolAnn35   \n",
       "1  Love the phone. the phone is sleek and smooth ...    james0923   \n",
       "2  Adequate feel. Nice heft. Processor's still sl...     R. Craig   \n",
       "3  Never disappointed. One of the reasons I've be...  Buster2020    \n",
       "4  I've now found that i'm in a group of people t...   S Ate Mine   \n",
       "\n",
       "                                             product  \n",
       "0                                  Samsung Galaxy S8  \n",
       "1                                  Samsung Galaxy S8  \n",
       "2  Samsung Galaxy S8 (64GB) G950U 5.8\" 4G LTE Unl...  \n",
       "3                      Samsung Galaxy S8 64GB (AT&T)  \n",
       "4                                  Samsung Galaxy S8  "
      ]
     },
     "execution_count": 9,
     "metadata": {},
     "output_type": "execute_result"
    }
   ],
   "source": [
    "## • Round off scores to the nearest integers.\n",
    "data = round(data[data['score'].notnull()]) \n",
    "data.head()"
   ]
  },
  {
   "cell_type": "code",
   "execution_count": 10,
   "metadata": {
    "colab": {
     "base_uri": "https://localhost:8080/"
    },
    "executionInfo": {
     "elapsed": 892,
     "status": "ok",
     "timestamp": 1639241082614,
     "user": {
      "displayName": "Suv",
      "photoUrl": "https://lh3.googleusercontent.com/a/default-user=s64",
      "userId": "02586372588688823238"
     },
     "user_tz": -330
    },
    "id": "w7NP1_yd326s",
    "outputId": "5719a4c0-ffa6-4882-8e43-3601668e0dc1"
   },
   "outputs": [
    {
     "data": {
      "text/plain": [
       "phone_url        0\n",
       "date             0\n",
       "lang             0\n",
       "country          0\n",
       "source           0\n",
       "domain           0\n",
       "score            0\n",
       "score_max        0\n",
       "extract      18945\n",
       "author       60606\n",
       "product          1\n",
       "dtype: int64"
      ]
     },
     "execution_count": 10,
     "metadata": {},
     "output_type": "execute_result"
    }
   ],
   "source": [
    "#• Check for missing values. Impute the missing values if there is any.\n",
    "\n",
    "data.isna().sum()"
   ]
  },
  {
   "cell_type": "code",
   "execution_count": 11,
   "metadata": {
    "colab": {
     "base_uri": "https://localhost:8080/"
    },
    "executionInfo": {
     "elapsed": 1157,
     "status": "ok",
     "timestamp": 1639241085025,
     "user": {
      "displayName": "Suv",
      "photoUrl": "https://lh3.googleusercontent.com/a/default-user=s64",
      "userId": "02586372588688823238"
     },
     "user_tz": -330
    },
    "id": "xhbOw7tH35wE",
    "outputId": "db818e77-d559-44f8-ba43-80d7d35443b5"
   },
   "outputs": [
    {
     "data": {
      "text/plain": [
       "phone_url        0\n",
       "date             0\n",
       "lang             0\n",
       "country          0\n",
       "source           0\n",
       "domain           0\n",
       "score            0\n",
       "score_max        0\n",
       "extract      18945\n",
       "author       60606\n",
       "product          1\n",
       "dtype: int64"
      ]
     },
     "execution_count": 11,
     "metadata": {},
     "output_type": "execute_result"
    }
   ],
   "source": [
    "# Since there wont be any outlier in score and max os score is 10, we are \n",
    "# going to fill the score and score_max columns with mean value \n",
    "\n",
    "data['score'] = data['score'].fillna(data['score'].mean())\n",
    "data['score_max'] = data['score_max'].fillna(data['score'].mean())\n",
    "data.isna().sum()"
   ]
  },
  {
   "cell_type": "code",
   "execution_count": 12,
   "metadata": {
    "colab": {
     "base_uri": "https://localhost:8080/"
    },
    "executionInfo": {
     "elapsed": 1931,
     "status": "ok",
     "timestamp": 1639241087431,
     "user": {
      "displayName": "Suv",
      "photoUrl": "https://lh3.googleusercontent.com/a/default-user=s64",
      "userId": "02586372588688823238"
     },
     "user_tz": -330
    },
    "id": "2XHrGani38YA",
    "outputId": "f63512f1-5843-46e1-91d4-1e0b6f8edad3"
   },
   "outputs": [
    {
     "name": "stdout",
     "output_type": "stream",
     "text": [
      "<class 'pandas.core.frame.DataFrame'>\n",
      "Int64Index: 1275917 entries, 0 to 1415132\n",
      "Data columns (total 11 columns):\n",
      " #   Column     Non-Null Count    Dtype  \n",
      "---  ------     --------------    -----  \n",
      " 0   phone_url  1275917 non-null  object \n",
      " 1   date       1275917 non-null  object \n",
      " 2   lang       1275917 non-null  object \n",
      " 3   country    1275917 non-null  object \n",
      " 4   source     1275917 non-null  object \n",
      " 5   domain     1275917 non-null  object \n",
      " 6   score      1275917 non-null  float64\n",
      " 7   score_max  1275917 non-null  float64\n",
      " 8   extract    1275917 non-null  object \n",
      " 9   author     1275917 non-null  object \n",
      " 10  product    1275917 non-null  object \n",
      "dtypes: float64(2), object(9)\n",
      "memory usage: 116.8+ MB\n"
     ]
    }
   ],
   "source": [
    "## Extract we cant replace with anything, because its user's comments.  \n",
    "## so we can remove the rows where author and extract are null \n",
    "data.dropna(axis=0, inplace=True)\n",
    "data.info()"
   ]
  },
  {
   "cell_type": "code",
   "execution_count": 13,
   "metadata": {
    "colab": {
     "base_uri": "https://localhost:8080/"
    },
    "executionInfo": {
     "elapsed": 641,
     "status": "ok",
     "timestamp": 1639241088064,
     "user": {
      "displayName": "Suv",
      "photoUrl": "https://lh3.googleusercontent.com/a/default-user=s64",
      "userId": "02586372588688823238"
     },
     "user_tz": -330
    },
    "id": "jUlzWK9z3-mM",
    "outputId": "c0a182e9-d21f-4aee-de7f-1e68598fa0f0"
   },
   "outputs": [
    {
     "data": {
      "text/plain": [
       "phone_url    0\n",
       "date         0\n",
       "lang         0\n",
       "country      0\n",
       "source       0\n",
       "domain       0\n",
       "score        0\n",
       "score_max    0\n",
       "extract      0\n",
       "author       0\n",
       "product      0\n",
       "dtype: int64"
      ]
     },
     "execution_count": 13,
     "metadata": {},
     "output_type": "execute_result"
    }
   ],
   "source": [
    "## checking \n",
    "data.isna().sum()"
   ]
  },
  {
   "cell_type": "code",
   "execution_count": 14,
   "metadata": {
    "colab": {
     "base_uri": "https://localhost:8080/"
    },
    "executionInfo": {
     "elapsed": 2679,
     "status": "ok",
     "timestamp": 1639241092703,
     "user": {
      "displayName": "Suv",
      "photoUrl": "https://lh3.googleusercontent.com/a/default-user=s64",
      "userId": "02586372588688823238"
     },
     "user_tz": -330
    },
    "id": "8e_lhRCP4B5f",
    "outputId": "626a8674-6502-48fe-bcef-c1f871cf48f1"
   },
   "outputs": [
    {
     "data": {
      "text/plain": [
       "0          False\n",
       "1          False\n",
       "2          False\n",
       "3          False\n",
       "4          False\n",
       "           ...  \n",
       "1415128    False\n",
       "1415129    False\n",
       "1415130    False\n",
       "1415131    False\n",
       "1415132    False\n",
       "Length: 1275917, dtype: bool"
      ]
     },
     "execution_count": 14,
     "metadata": {},
     "output_type": "execute_result"
    }
   ],
   "source": [
    "# • Check for duplicate values and remove them if there is any.\n",
    "\n",
    "data.duplicated()"
   ]
  },
  {
   "cell_type": "code",
   "execution_count": 15,
   "metadata": {
    "colab": {
     "base_uri": "https://localhost:8080/",
     "height": 293
    },
    "executionInfo": {
     "elapsed": 3184,
     "status": "ok",
     "timestamp": 1639241095882,
     "user": {
      "displayName": "Suv",
      "photoUrl": "https://lh3.googleusercontent.com/a/default-user=s64",
      "userId": "02586372588688823238"
     },
     "user_tz": -330
    },
    "id": "csE2Euf_4D7a",
    "outputId": "55cfd500-4634-4fe6-e8b0-789d53f7b7fc"
   },
   "outputs": [
    {
     "data": {
      "text/html": [
       "<div>\n",
       "<style scoped>\n",
       "    .dataframe tbody tr th:only-of-type {\n",
       "        vertical-align: middle;\n",
       "    }\n",
       "\n",
       "    .dataframe tbody tr th {\n",
       "        vertical-align: top;\n",
       "    }\n",
       "\n",
       "    .dataframe thead th {\n",
       "        text-align: right;\n",
       "    }\n",
       "</style>\n",
       "<table border=\"1\" class=\"dataframe\">\n",
       "  <thead>\n",
       "    <tr style=\"text-align: right;\">\n",
       "      <th></th>\n",
       "      <th>phone_url</th>\n",
       "      <th>date</th>\n",
       "      <th>lang</th>\n",
       "      <th>country</th>\n",
       "      <th>source</th>\n",
       "      <th>domain</th>\n",
       "      <th>score</th>\n",
       "      <th>score_max</th>\n",
       "      <th>extract</th>\n",
       "      <th>author</th>\n",
       "      <th>product</th>\n",
       "    </tr>\n",
       "  </thead>\n",
       "  <tbody>\n",
       "    <tr>\n",
       "      <th>0</th>\n",
       "      <td>/cellphones/samsung-galaxy-s8/</td>\n",
       "      <td>5/2/2017</td>\n",
       "      <td>en</td>\n",
       "      <td>us</td>\n",
       "      <td>Verizon Wireless</td>\n",
       "      <td>verizonwireless.com</td>\n",
       "      <td>10.0</td>\n",
       "      <td>10.0</td>\n",
       "      <td>As a diehard Samsung fan who has had every Sam...</td>\n",
       "      <td>CarolAnn35</td>\n",
       "      <td>Samsung Galaxy S8</td>\n",
       "    </tr>\n",
       "    <tr>\n",
       "      <th>1</th>\n",
       "      <td>/cellphones/samsung-galaxy-s8/</td>\n",
       "      <td>4/28/2017</td>\n",
       "      <td>en</td>\n",
       "      <td>us</td>\n",
       "      <td>Phone Arena</td>\n",
       "      <td>phonearena.com</td>\n",
       "      <td>10.0</td>\n",
       "      <td>10.0</td>\n",
       "      <td>Love the phone. the phone is sleek and smooth ...</td>\n",
       "      <td>james0923</td>\n",
       "      <td>Samsung Galaxy S8</td>\n",
       "    </tr>\n",
       "    <tr>\n",
       "      <th>2</th>\n",
       "      <td>/cellphones/samsung-galaxy-s8/</td>\n",
       "      <td>5/4/2017</td>\n",
       "      <td>en</td>\n",
       "      <td>us</td>\n",
       "      <td>Amazon</td>\n",
       "      <td>amazon.com</td>\n",
       "      <td>6.0</td>\n",
       "      <td>10.0</td>\n",
       "      <td>Adequate feel. Nice heft. Processor's still sl...</td>\n",
       "      <td>R. Craig</td>\n",
       "      <td>Samsung Galaxy S8 (64GB) G950U 5.8\" 4G LTE Unl...</td>\n",
       "    </tr>\n",
       "    <tr>\n",
       "      <th>3</th>\n",
       "      <td>/cellphones/samsung-galaxy-s8/</td>\n",
       "      <td>5/2/2017</td>\n",
       "      <td>en</td>\n",
       "      <td>us</td>\n",
       "      <td>Samsung</td>\n",
       "      <td>samsung.com</td>\n",
       "      <td>9.0</td>\n",
       "      <td>10.0</td>\n",
       "      <td>Never disappointed. One of the reasons I've be...</td>\n",
       "      <td>Buster2020</td>\n",
       "      <td>Samsung Galaxy S8 64GB (AT&amp;T)</td>\n",
       "    </tr>\n",
       "    <tr>\n",
       "      <th>4</th>\n",
       "      <td>/cellphones/samsung-galaxy-s8/</td>\n",
       "      <td>5/11/2017</td>\n",
       "      <td>en</td>\n",
       "      <td>us</td>\n",
       "      <td>Verizon Wireless</td>\n",
       "      <td>verizonwireless.com</td>\n",
       "      <td>4.0</td>\n",
       "      <td>10.0</td>\n",
       "      <td>I've now found that i'm in a group of people t...</td>\n",
       "      <td>S Ate Mine</td>\n",
       "      <td>Samsung Galaxy S8</td>\n",
       "    </tr>\n",
       "  </tbody>\n",
       "</table>\n",
       "</div>"
      ],
      "text/plain": [
       "                        phone_url       date lang country            source  \\\n",
       "0  /cellphones/samsung-galaxy-s8/   5/2/2017   en      us  Verizon Wireless   \n",
       "1  /cellphones/samsung-galaxy-s8/  4/28/2017   en      us       Phone Arena   \n",
       "2  /cellphones/samsung-galaxy-s8/   5/4/2017   en      us            Amazon   \n",
       "3  /cellphones/samsung-galaxy-s8/   5/2/2017   en      us           Samsung   \n",
       "4  /cellphones/samsung-galaxy-s8/  5/11/2017   en      us  Verizon Wireless   \n",
       "\n",
       "                domain  score  score_max  \\\n",
       "0  verizonwireless.com   10.0       10.0   \n",
       "1       phonearena.com   10.0       10.0   \n",
       "2           amazon.com    6.0       10.0   \n",
       "3          samsung.com    9.0       10.0   \n",
       "4  verizonwireless.com    4.0       10.0   \n",
       "\n",
       "                                             extract       author  \\\n",
       "0  As a diehard Samsung fan who has had every Sam...   CarolAnn35   \n",
       "1  Love the phone. the phone is sleek and smooth ...    james0923   \n",
       "2  Adequate feel. Nice heft. Processor's still sl...     R. Craig   \n",
       "3  Never disappointed. One of the reasons I've be...  Buster2020    \n",
       "4  I've now found that i'm in a group of people t...   S Ate Mine   \n",
       "\n",
       "                                             product  \n",
       "0                                  Samsung Galaxy S8  \n",
       "1                                  Samsung Galaxy S8  \n",
       "2  Samsung Galaxy S8 (64GB) G950U 5.8\" 4G LTE Unl...  \n",
       "3                      Samsung Galaxy S8 64GB (AT&T)  \n",
       "4                                  Samsung Galaxy S8  "
      ]
     },
     "execution_count": 15,
     "metadata": {},
     "output_type": "execute_result"
    }
   ],
   "source": [
    "# drop duplicates\n",
    "data.drop_duplicates(subset=None, keep = 'first', inplace=True)\n",
    "data.head()"
   ]
  },
  {
   "cell_type": "code",
   "execution_count": 16,
   "metadata": {
    "colab": {
     "base_uri": "https://localhost:8080/"
    },
    "executionInfo": {
     "elapsed": 2648,
     "status": "ok",
     "timestamp": 1639241100259,
     "user": {
      "displayName": "Suv",
      "photoUrl": "https://lh3.googleusercontent.com/a/default-user=s64",
      "userId": "02586372588688823238"
     },
     "user_tz": -330
    },
    "id": "sqGy3Mks4GH6",
    "outputId": "ec4c2cf7-9f23-4888-a49d-c22f8689751e"
   },
   "outputs": [
    {
     "data": {
      "text/plain": [
       "0"
      ]
     },
     "execution_count": 16,
     "metadata": {},
     "output_type": "execute_result"
    }
   ],
   "source": [
    "## checking\n",
    "data.duplicated().sum()"
   ]
  },
  {
   "cell_type": "code",
   "execution_count": 17,
   "metadata": {
    "colab": {
     "base_uri": "https://localhost:8080/"
    },
    "executionInfo": {
     "elapsed": 12,
     "status": "ok",
     "timestamp": 1639241100260,
     "user": {
      "displayName": "Suv",
      "photoUrl": "https://lh3.googleusercontent.com/a/default-user=s64",
      "userId": "02586372588688823238"
     },
     "user_tz": -330
    },
    "id": "HdtSkmbs4H9d",
    "outputId": "8232413e-74a8-42b7-bb34-9a0348d3e970"
   },
   "outputs": [
    {
     "data": {
      "text/plain": [
       "(1271437, 11)"
      ]
     },
     "execution_count": 17,
     "metadata": {},
     "output_type": "execute_result"
    }
   ],
   "source": [
    "## confirming all the duplicates and the null values are removed/replaced\n",
    "data.shape"
   ]
  },
  {
   "cell_type": "code",
   "execution_count": 18,
   "metadata": {
    "colab": {
     "base_uri": "https://localhost:8080/"
    },
    "executionInfo": {
     "elapsed": 1600,
     "status": "ok",
     "timestamp": 1639241101851,
     "user": {
      "displayName": "Suv",
      "photoUrl": "https://lh3.googleusercontent.com/a/default-user=s64",
      "userId": "02586372588688823238"
     },
     "user_tz": -330
    },
    "id": "BnFtmjH34J6t",
    "outputId": "7968d31a-d551-45ff-f5bc-698f7ecf33a1"
   },
   "outputs": [
    {
     "data": {
      "text/plain": [
       "(1000000, 11)"
      ]
     },
     "execution_count": 18,
     "metadata": {},
     "output_type": "execute_result"
    }
   ],
   "source": [
    "## • Keep only 1000000 data samples. Use random state=612.\n",
    "\n",
    "data_randomly_selected = data.sample(n=1000000, random_state=612)\n",
    "\n",
    "data_randomly_selected.shape"
   ]
  },
  {
   "cell_type": "code",
   "execution_count": 19,
   "metadata": {
    "colab": {
     "base_uri": "https://localhost:8080/",
     "height": 206
    },
    "executionInfo": {
     "elapsed": 15,
     "status": "ok",
     "timestamp": 1639241101852,
     "user": {
      "displayName": "Suv",
      "photoUrl": "https://lh3.googleusercontent.com/a/default-user=s64",
      "userId": "02586372588688823238"
     },
     "user_tz": -330
    },
    "id": "UuRScUVi4MES",
    "outputId": "870e4a62-2b3b-4b72-e33e-afd7b769774f"
   },
   "outputs": [
    {
     "data": {
      "text/html": [
       "<div>\n",
       "<style scoped>\n",
       "    .dataframe tbody tr th:only-of-type {\n",
       "        vertical-align: middle;\n",
       "    }\n",
       "\n",
       "    .dataframe tbody tr th {\n",
       "        vertical-align: top;\n",
       "    }\n",
       "\n",
       "    .dataframe thead th {\n",
       "        text-align: right;\n",
       "    }\n",
       "</style>\n",
       "<table border=\"1\" class=\"dataframe\">\n",
       "  <thead>\n",
       "    <tr style=\"text-align: right;\">\n",
       "      <th></th>\n",
       "      <th>score</th>\n",
       "      <th>score_max</th>\n",
       "      <th>extract</th>\n",
       "      <th>author</th>\n",
       "      <th>product</th>\n",
       "    </tr>\n",
       "  </thead>\n",
       "  <tbody>\n",
       "    <tr>\n",
       "      <th>510111</th>\n",
       "      <td>10.0</td>\n",
       "      <td>10.0</td>\n",
       "      <td>Good product in this price...</td>\n",
       "      <td>KHILESH KUMAR VERMA</td>\n",
       "      <td>Lenovo Vibe K5 (Gold, VoLTE update)</td>\n",
       "    </tr>\n",
       "    <tr>\n",
       "      <th>104794</th>\n",
       "      <td>8.0</td>\n",
       "      <td>10.0</td>\n",
       "      <td>En general me gusta mucho mi nuevo S6, el reco...</td>\n",
       "      <td>Evyta</td>\n",
       "      <td>Samsung Galaxy S6</td>\n",
       "    </tr>\n",
       "    <tr>\n",
       "      <th>1222473</th>\n",
       "      <td>8.0</td>\n",
       "      <td>10.0</td>\n",
       "      <td>Ð½ÐµÑÐ¼Ð¾ÑÑÑ Ð½Ð° Ð½ÐµÐ´Ð¾ÑÑÐ°ÑÐºÐ¸ Ð² ...</td>\n",
       "      <td>VanRaZor</td>\n",
       "      <td>Sony Ericsson K810i</td>\n",
       "    </tr>\n",
       "    <tr>\n",
       "      <th>452910</th>\n",
       "      <td>6.0</td>\n",
       "      <td>10.0</td>\n",
       "      <td>ÐÑÑÑ ÑÐ¶Ðµ ÑÐ°Ð·Ð²ÐµÑÐ½ÑÑÑÐ¹ Ð¾ÑÐ·Ñ...</td>\n",
       "      <td>ruga</td>\n",
       "      <td>Sony Xperia Z2 (Black)</td>\n",
       "    </tr>\n",
       "    <tr>\n",
       "      <th>16933</th>\n",
       "      <td>10.0</td>\n",
       "      <td>10.0</td>\n",
       "      <td>Ein Wahnsinns Handy! Macht richtig schÃ¶ne Bil...</td>\n",
       "      <td>einer Kundin</td>\n",
       "      <td>Samsung Galaxy S7 edge Smartphone, 13,9 cm (5,...</td>\n",
       "    </tr>\n",
       "  </tbody>\n",
       "</table>\n",
       "</div>"
      ],
      "text/plain": [
       "         score  score_max                                            extract  \\\n",
       "510111    10.0       10.0                      Good product in this price...   \n",
       "104794     8.0       10.0  En general me gusta mucho mi nuevo S6, el reco...   \n",
       "1222473    8.0       10.0  Ð½ÐµÑÐ¼Ð¾ÑÑÑ Ð½Ð° Ð½ÐµÐ´Ð¾ÑÑÐ°ÑÐºÐ¸ Ð² ...   \n",
       "452910     6.0       10.0  ÐÑÑÑ ÑÐ¶Ðµ ÑÐ°Ð·Ð²ÐµÑÐ½ÑÑÑÐ¹ Ð¾ÑÐ·Ñ...   \n",
       "16933     10.0       10.0  Ein Wahnsinns Handy! Macht richtig schÃ¶ne Bil...   \n",
       "\n",
       "                      author  \\\n",
       "510111   KHILESH KUMAR VERMA   \n",
       "104794                 Evyta   \n",
       "1222473             VanRaZor   \n",
       "452910                  ruga   \n",
       "16933           einer Kundin   \n",
       "\n",
       "                                                   product  \n",
       "510111                 Lenovo Vibe K5 (Gold, VoLTE update)  \n",
       "104794                                   Samsung Galaxy S6  \n",
       "1222473                                Sony Ericsson K810i  \n",
       "452910                              Sony Xperia Z2 (Black)  \n",
       "16933    Samsung Galaxy S7 edge Smartphone, 13,9 cm (5,...  "
      ]
     },
     "execution_count": 19,
     "metadata": {},
     "output_type": "execute_result"
    }
   ],
   "source": [
    "## • Drop irrelevant features. Keep features like Author, Product, and Score.\n",
    "\n",
    "data_randomly_selected.drop(['phone_url', 'date', 'lang', 'country', 'source', 'domain'], axis=1, inplace=True)\n",
    "data_randomly_selected.head()"
   ]
  },
  {
   "cell_type": "markdown",
   "metadata": {
    "id": "NRyc_2TR4TV0"
   },
   "source": [
    "##2. Answer the following questions"
   ]
  },
  {
   "cell_type": "code",
   "execution_count": 20,
   "metadata": {
    "colab": {
     "base_uri": "https://localhost:8080/"
    },
    "executionInfo": {
     "elapsed": 6,
     "status": "ok",
     "timestamp": 1639241103417,
     "user": {
      "displayName": "Suv",
      "photoUrl": "https://lh3.googleusercontent.com/a/default-user=s64",
      "userId": "02586372588688823238"
     },
     "user_tz": -330
    },
    "id": "BCY9Craa4UGM",
    "outputId": "c87523e1-5fe9-46a4-eba8-bced6cd0791a"
   },
   "outputs": [
    {
     "data": {
      "text/plain": [
       "array([10.,  8.,  6.,  2.,  4.,  7.,  9.,  1.,  5.,  3.,  0.])"
      ]
     },
     "execution_count": 20,
     "metadata": {},
     "output_type": "execute_result"
    }
   ],
   "source": [
    "## • Identify the most rated features.\n",
    "\n",
    "data_randomly_selected.score.unique()"
   ]
  },
  {
   "cell_type": "code",
   "execution_count": 21,
   "metadata": {
    "colab": {
     "base_uri": "https://localhost:8080/",
     "height": 279
    },
    "executionInfo": {
     "elapsed": 941,
     "status": "ok",
     "timestamp": 1639241105288,
     "user": {
      "displayName": "Suv",
      "photoUrl": "https://lh3.googleusercontent.com/a/default-user=s64",
      "userId": "02586372588688823238"
     },
     "user_tz": -330
    },
    "id": "_tbu98LM4XcJ",
    "outputId": "71bbc09a-9445-49b6-a9c5-a243358b1be2"
   },
   "outputs": [
    {
     "data": {
      "image/png": "[encoded data removed]",
      "text/plain": [
       "<Figure size 432x288 with 1 Axes>"
      ]
     },
     "metadata": {
      "needs_background": "light"
     },
     "output_type": "display_data"
    }
   ],
   "source": [
    "ratings_explicit = data_randomly_selected[data_randomly_selected.score != 0]\n",
    "ratings_implicit = data_randomly_selected[data_randomly_selected.score == 0]\n",
    "\n",
    "#plotting \n",
    "sns.countplot(data=ratings_explicit , x ='score')\n",
    "plt.show()\n",
    "\n",
    "## most of people have rated 10 "
   ]
  },
  {
   "cell_type": "code",
   "execution_count": 22,
   "metadata": {
    "colab": {
     "base_uri": "https://localhost:8080/",
     "height": 424
    },
    "executionInfo": {
     "elapsed": 5758,
     "status": "ok",
     "timestamp": 1639241112816,
     "user": {
      "displayName": "Suv",
      "photoUrl": "https://lh3.googleusercontent.com/a/default-user=s64",
      "userId": "02586372588688823238"
     },
     "user_tz": -330
    },
    "id": "vlM3br_54eyx",
    "outputId": "4808d448-4cd3-4459-be25-a263ec9a12d1"
   },
   "outputs": [
    {
     "data": {
      "text/html": [
       "<div>\n",
       "<style scoped>\n",
       "    .dataframe tbody tr th:only-of-type {\n",
       "        vertical-align: middle;\n",
       "    }\n",
       "\n",
       "    .dataframe tbody tr th {\n",
       "        vertical-align: top;\n",
       "    }\n",
       "\n",
       "    .dataframe thead th {\n",
       "        text-align: right;\n",
       "    }\n",
       "</style>\n",
       "<table border=\"1\" class=\"dataframe\">\n",
       "  <thead>\n",
       "    <tr style=\"text-align: right;\">\n",
       "      <th></th>\n",
       "      <th>author</th>\n",
       "      <th>score</th>\n",
       "    </tr>\n",
       "  </thead>\n",
       "  <tbody>\n",
       "    <tr>\n",
       "      <th>23811</th>\n",
       "      <td>Amazon Customer</td>\n",
       "      <td>60408</td>\n",
       "    </tr>\n",
       "    <tr>\n",
       "      <th>76755</th>\n",
       "      <td>Cliente Amazon</td>\n",
       "      <td>15051</td>\n",
       "    </tr>\n",
       "    <tr>\n",
       "      <th>455055</th>\n",
       "      <td>e-bit</td>\n",
       "      <td>6651</td>\n",
       "    </tr>\n",
       "    <tr>\n",
       "      <th>76732</th>\n",
       "      <td>Client d'Amazon</td>\n",
       "      <td>6087</td>\n",
       "    </tr>\n",
       "    <tr>\n",
       "      <th>24173</th>\n",
       "      <td>Amazon Kunde</td>\n",
       "      <td>3683</td>\n",
       "    </tr>\n",
       "    <tr>\n",
       "      <th>...</th>\n",
       "      <td>...</td>\n",
       "      <td>...</td>\n",
       "    </tr>\n",
       "    <tr>\n",
       "      <th>626688</th>\n",
       "      <td>æ­¦è¡å¤§å¸«</td>\n",
       "      <td>1</td>\n",
       "    </tr>\n",
       "    <tr>\n",
       "      <th>626689</th>\n",
       "      <td>è¥ççç</td>\n",
       "      <td>1</td>\n",
       "    </tr>\n",
       "    <tr>\n",
       "      <th>626690</th>\n",
       "      <td>éªå°</td>\n",
       "      <td>1</td>\n",
       "    </tr>\n",
       "    <tr>\n",
       "      <th>626691</th>\n",
       "      <td>éº¦ç¬ç¬,</td>\n",
       "      <td>1</td>\n",
       "    </tr>\n",
       "    <tr>\n",
       "      <th>626692</th>\n",
       "      <td>ï¿½Â¬â°Â¢</td>\n",
       "      <td>1</td>\n",
       "    </tr>\n",
       "  </tbody>\n",
       "</table>\n",
       "<p>626693 rows × 2 columns</p>\n",
       "</div>"
      ],
      "text/plain": [
       "                 author  score\n",
       "23811   Amazon Customer  60408\n",
       "76755    Cliente Amazon  15051\n",
       "455055            e-bit   6651\n",
       "76732   Client d'Amazon   6087\n",
       "24173      Amazon Kunde   3683\n",
       "...                 ...    ...\n",
       "626688     æ­¦è¡å¤§å¸«      1\n",
       "626689     è¥ççç      1\n",
       "626690           éªå°      1\n",
       "626691       éº¦ç¬ç¬,      1\n",
       "626692       ï¿½Â¬â°Â¢      1\n",
       "\n",
       "[626693 rows x 2 columns]"
      ]
     },
     "execution_count": 22,
     "metadata": {},
     "output_type": "execute_result"
    }
   ],
   "source": [
    "## • Identify the users with most number of reviews.\n",
    "\n",
    "\n",
    "author_grouped = data_randomly_selected.groupby(['author']).agg({'score': 'count'}).reset_index()\n",
    "author_grouped.sort_values(['score', 'author'], ascending = [0,1])"
   ]
  },
  {
   "cell_type": "code",
   "execution_count": 23,
   "metadata": {
    "executionInfo": {
     "elapsed": 3337,
     "status": "ok",
     "timestamp": 1639241116141,
     "user": {
      "displayName": "Suv",
      "photoUrl": "https://lh3.googleusercontent.com/a/default-user=s64",
      "userId": "02586372588688823238"
     },
     "user_tz": -330
    },
    "id": "vi0XodyW4Rgc"
   },
   "outputs": [],
   "source": [
    "## Select the data with products having more than 50 ratings and users who have given more than 50 ratings. Report the shape of the final\n",
    "## dataset.\n",
    "\n",
    "\n",
    "author_grouped = data_randomly_selected.groupby(['author']).agg({'score': 'count'}).reset_index()\n",
    "product_grouped = data_randomly_selected.groupby(['product']).agg({'score': 'count'}).reset_index()\n",
    "\n",
    "\n",
    "author50 = author_grouped[author_grouped['score'] > 50]\n",
    "product50 = product_grouped[product_grouped['score'] > 50]\n",
    "\n"
   ]
  },
  {
   "cell_type": "code",
   "execution_count": 24,
   "metadata": {
    "colab": {
     "base_uri": "https://localhost:8080/"
    },
    "executionInfo": {
     "elapsed": 8,
     "status": "ok",
     "timestamp": 1639241116142,
     "user": {
      "displayName": "Suv",
      "photoUrl": "https://lh3.googleusercontent.com/a/default-user=s64",
      "userId": "02586372588688823238"
     },
     "user_tz": -330
    },
    "id": "tWcNEkhJ75de",
    "outputId": "cdbf4911-78a4-4bdd-fae6-82add763f3d3"
   },
   "outputs": [
    {
     "data": {
      "text/plain": [
       "(5089, 4)"
      ]
     },
     "execution_count": 24,
     "metadata": {},
     "output_type": "execute_result"
    }
   ],
   "source": [
    "x_data = pd.concat([author50, product50], axis=1)\n",
    "x_data.shape"
   ]
  },
  {
   "cell_type": "code",
   "execution_count": 25,
   "metadata": {
    "colab": {
     "base_uri": "https://localhost:8080/"
    },
    "executionInfo": {
     "elapsed": 904,
     "status": "ok",
     "timestamp": 1639241117039,
     "user": {
      "displayName": "Suv",
      "photoUrl": "https://lh3.googleusercontent.com/a/default-user=s64",
      "userId": "02586372588688823238"
     },
     "user_tz": -330
    },
    "id": "VxakXZz078He",
    "outputId": "133e036c-6684-4c82-b383-5dd48e632627"
   },
   "outputs": [
    {
     "data": {
      "text/plain": [
       "product\n",
       "Lenovo Vibe K4 Note (White,16GB)     4109\n",
       "Lenovo Vibe K4 Note (Black, 16GB)    3451\n",
       "OnePlus 3 (Graphite, 64 GB)          3212\n",
       "OnePlus 3 (Soft Gold, 64 GB)         2798\n",
       "Huawei P8lite zwart / 16 GB          2121\n",
       "Name: score, dtype: int64"
      ]
     },
     "execution_count": 25,
     "metadata": {},
     "output_type": "execute_result"
    }
   ],
   "source": [
    "## 3. Build a popularity based model and recommend top 5 mobile phones.\n",
    "\n",
    "\n",
    "data_randomly_selected.groupby('product')['score'].count().sort_values(ascending=False).head()  \n",
    "\n"
   ]
  },
  {
   "cell_type": "code",
   "execution_count": 26,
   "metadata": {
    "executionInfo": {
     "elapsed": 11,
     "status": "ok",
     "timestamp": 1639241117040,
     "user": {
      "displayName": "Suv",
      "photoUrl": "https://lh3.googleusercontent.com/a/default-user=s64",
      "userId": "02586372588688823238"
     },
     "user_tz": -330
    },
    "id": "qXkkfYmm7-Ol"
   },
   "outputs": [],
   "source": [
    "data_randomly_selected.drop(['score_max'], axis=1, inplace=True)"
   ]
  },
  {
   "cell_type": "code",
   "execution_count": 27,
   "metadata": {
    "colab": {
     "base_uri": "https://localhost:8080/"
    },
    "executionInfo": {
     "elapsed": 649,
     "status": "ok",
     "timestamp": 1639241117681,
     "user": {
      "displayName": "Suv",
      "photoUrl": "https://lh3.googleusercontent.com/a/default-user=s64",
      "userId": "02586372588688823238"
     },
     "user_tz": -330
    },
    "id": "bRFC7wAU8A5y",
    "outputId": "922b6ac5-b3af-48ad-b291-6056ee044a8e"
   },
   "outputs": [
    {
     "name": "stdout",
     "output_type": "stream",
     "text": [
      "<class 'pandas.core.frame.DataFrame'>\n",
      "Int64Index: 1000000 entries, 510111 to 13526\n",
      "Data columns (total 4 columns):\n",
      " #   Column   Non-Null Count    Dtype  \n",
      "---  ------   --------------    -----  \n",
      " 0   score    1000000 non-null  float64\n",
      " 1   extract  1000000 non-null  object \n",
      " 2   author   1000000 non-null  object \n",
      " 3   product  1000000 non-null  object \n",
      "dtypes: float64(1), object(3)\n",
      "memory usage: 38.1+ MB\n"
     ]
    }
   ],
   "source": [
    "## checking\n",
    "\n",
    "data_randomly_selected.info()"
   ]
  },
  {
   "cell_type": "markdown",
   "metadata": {
    "id": "16DWe_0a8MRX"
   },
   "source": [
    "## Build a collaborative filtering model using SVD. You can use SVD from surprise or build it from scratch(Note: Incase you’re building it from scratch you\n",
    "## can limit your data points to 5000 samples if you face memory issues). Build a collaborative filtering model using kNNWithMeans from surprise. You\n",
    "## can try both user-based and item-based model.\n",
    "\n"
   ]
  },
  {
   "cell_type": "code",
   "execution_count": 28,
   "metadata": {
    "executionInfo": {
     "elapsed": 374,
     "status": "ok",
     "timestamp": 1639241119389,
     "user": {
      "displayName": "Suv",
      "photoUrl": "https://lh3.googleusercontent.com/a/default-user=s64",
      "userId": "02586372588688823238"
     },
     "user_tz": -330
    },
    "id": "kLMo59Pp8EKX"
   },
   "outputs": [],
   "source": [
    "from surprise import KNNWithMeans\n",
    "from surprise import accuracy\n",
    "from surprise.model_selection import train_test_split\n",
    "from surprise import Reader\n",
    "from surprise import Dataset"
   ]
  },
  {
   "cell_type": "code",
   "execution_count": 29,
   "metadata": {
    "executionInfo": {
     "elapsed": 8,
     "status": "ok",
     "timestamp": 1639241120581,
     "user": {
      "displayName": "Suv",
      "photoUrl": "https://lh3.googleusercontent.com/a/default-user=s64",
      "userId": "02586372588688823238"
     },
     "user_tz": -330
    },
    "id": "nYhJerqAubCT"
   },
   "outputs": [],
   "source": [
    "## Reducing the data size, because it crashes with the original size\n",
    "data_randomly_selected = data.sample(n=5000, random_state=612)\n"
   ]
  },
  {
   "cell_type": "code",
   "execution_count": 30,
   "metadata": {
    "colab": {
     "base_uri": "https://localhost:8080/"
    },
    "executionInfo": {
     "elapsed": 4,
     "status": "ok",
     "timestamp": 1639241122582,
     "user": {
      "displayName": "Suv",
      "photoUrl": "https://lh3.googleusercontent.com/a/default-user=s64",
      "userId": "02586372588688823238"
     },
     "user_tz": -330
    },
    "id": "Je303aeJ8P56",
    "outputId": "3d11d310-a0e4-4ad5-b4de-dff4b7b46e0a"
   },
   "outputs": [
    {
     "data": {
      "text/plain": [
       "<surprise.dataset.DatasetAutoFolds at 0x13a0596a0>"
      ]
     },
     "execution_count": 30,
     "metadata": {},
     "output_type": "execute_result"
    }
   ],
   "source": [
    "### preparing dataset for the surprise, because surprise can read and rate a file while has \n",
    "## 3 columns, itemid, userid, and ratings \n",
    "\n",
    "reader = Reader(rating_scale = (0,10))\n",
    "\n",
    "data_s = Dataset.load_from_df(data_randomly_selected[['author', 'product', 'score']], reader)\n",
    "\n",
    "data_s"
   ]
  },
  {
   "cell_type": "code",
   "execution_count": 31,
   "metadata": {
    "executionInfo": {
     "elapsed": 2,
     "status": "ok",
     "timestamp": 1639241123889,
     "user": {
      "displayName": "Suv",
      "photoUrl": "https://lh3.googleusercontent.com/a/default-user=s64",
      "userId": "02586372588688823238"
     },
     "user_tz": -330
    },
    "id": "_q9jbEfI8Sfc"
   },
   "outputs": [],
   "source": [
    "trainset, testset = train_test_split(data_s, test_size=.20)\n",
    "\n"
   ]
  },
  {
   "cell_type": "markdown",
   "metadata": {
    "id": "wPvhGDcb9Elr"
   },
   "source": [
    "KNNWithMeans"
   ]
  },
  {
   "cell_type": "code",
   "execution_count": 32,
   "metadata": {
    "colab": {
     "base_uri": "https://localhost:8080/"
    },
    "executionInfo": {
     "elapsed": 517,
     "status": "ok",
     "timestamp": 1639241124940,
     "user": {
      "displayName": "Suv",
      "photoUrl": "https://lh3.googleusercontent.com/a/default-user=s64",
      "userId": "02586372588688823238"
     },
     "user_tz": -330
    },
    "id": "urH-Mhv08WBh",
    "outputId": "91515208-ffa1-4086-969e-992b4534a2bb"
   },
   "outputs": [
    {
     "name": "stdout",
     "output_type": "stream",
     "text": [
      "Estimating biases using als...\n",
      "Computing the pearson_baseline similarity matrix...\n",
      "Done computing similarity matrix.\n"
     ]
    },
    {
     "data": {
      "text/plain": [
       "<surprise.prediction_algorithms.knns.KNNWithMeans at 0x14bf02610>"
      ]
     },
     "execution_count": 32,
     "metadata": {},
     "output_type": "execute_result"
    }
   ],
   "source": [
    "## Item based model\n",
    "\n",
    "algo_itemBased = KNNWithMeans(k=50, sim_options={'name': 'pearson_baseline', 'user_based': False})\n",
    "\n",
    "algo_itemBased.fit(trainset)\n"
   ]
  },
  {
   "cell_type": "code",
   "execution_count": 33,
   "metadata": {
    "executionInfo": {
     "elapsed": 633,
     "status": "ok",
     "timestamp": 1639241127627,
     "user": {
      "displayName": "Suv",
      "photoUrl": "https://lh3.googleusercontent.com/a/default-user=s64",
      "userId": "02586372588688823238"
     },
     "user_tz": -330
    },
    "id": "TWB7apa69ULA"
   },
   "outputs": [],
   "source": [
    "train_pred_IB_Knn = algo_itemBased.test(trainset.build_testset())\n",
    "\n",
    "test_pred_IB_Knn = algo_itemBased.test(testset)"
   ]
  },
  {
   "cell_type": "code",
   "execution_count": 34,
   "metadata": {
    "colab": {
     "base_uri": "https://localhost:8080/"
    },
    "executionInfo": {
     "elapsed": 4,
     "status": "ok",
     "timestamp": 1639241127992,
     "user": {
      "displayName": "Suv",
      "photoUrl": "https://lh3.googleusercontent.com/a/default-user=s64",
      "userId": "02586372588688823238"
     },
     "user_tz": -330
    },
    "id": "mu_ouyI99gFh",
    "outputId": "ac3b28ce-a5dd-4565-aae4-98e71dbe47c2"
   },
   "outputs": [
    {
     "name": "stdout",
     "output_type": "stream",
     "text": [
      "Item-based With KNNWithMeans Model\n",
      "RMSE: 0.4052\n",
      "RMSE: 2.6310\n"
     ]
    },
    {
     "data": {
      "text/plain": [
       "2.630993640854661"
      ]
     },
     "execution_count": 34,
     "metadata": {},
     "output_type": "execute_result"
    }
   ],
   "source": [
    "# RMSE\n",
    "print(\"Item-based With KNNWithMeans Model\")\n",
    "accuracy.rmse(train_pred_IB_Knn, verbose=True)\n",
    "accuracy.rmse(test_pred_IB_Knn, verbose=True)"
   ]
  },
  {
   "cell_type": "code",
   "execution_count": 35,
   "metadata": {
    "colab": {
     "base_uri": "https://localhost:8080/"
    },
    "executionInfo": {
     "elapsed": 369,
     "status": "ok",
     "timestamp": 1639241129907,
     "user": {
      "displayName": "Suv",
      "photoUrl": "https://lh3.googleusercontent.com/a/default-user=s64",
      "userId": "02586372588688823238"
     },
     "user_tz": -330
    },
    "id": "ABy_VvZS8YvA",
    "outputId": "f3b4f965-8019-4651-e0f5-4612b6638d04"
   },
   "outputs": [
    {
     "name": "stdout",
     "output_type": "stream",
     "text": [
      "Estimating biases using als...\n",
      "Computing the pearson_baseline similarity matrix...\n",
      "Done computing similarity matrix.\n"
     ]
    },
    {
     "data": {
      "text/plain": [
       "<surprise.prediction_algorithms.knns.KNNWithMeans at 0x14bef5b80>"
      ]
     },
     "execution_count": 35,
     "metadata": {},
     "output_type": "execute_result"
    }
   ],
   "source": [
    "## user based model\n",
    "\n",
    "algo_userBased = KNNWithMeans(k= 100, sim_options = {'name': 'pearson_baseline', 'user_based' : True})\n",
    "algo_userBased.fit(trainset)"
   ]
  },
  {
   "cell_type": "code",
   "execution_count": 36,
   "metadata": {
    "executionInfo": {
     "elapsed": 656,
     "status": "ok",
     "timestamp": 1639241131944,
     "user": {
      "displayName": "Suv",
      "photoUrl": "https://lh3.googleusercontent.com/a/default-user=s64",
      "userId": "02586372588688823238"
     },
     "user_tz": -330
    },
    "id": "ZotGDGci9oez"
   },
   "outputs": [],
   "source": [
    "train_pred_UB_Knn = algo_userBased.test(trainset.build_testset())\n",
    "\n",
    "test_pred_UB_Knn = algo_userBased.test(testset)"
   ]
  },
  {
   "cell_type": "code",
   "execution_count": 37,
   "metadata": {
    "colab": {
     "base_uri": "https://localhost:8080/"
    },
    "executionInfo": {
     "elapsed": 5,
     "status": "ok",
     "timestamp": 1639241132776,
     "user": {
      "displayName": "Suv",
      "photoUrl": "https://lh3.googleusercontent.com/a/default-user=s64",
      "userId": "02586372588688823238"
     },
     "user_tz": -330
    },
    "id": "6LiGmyxG90SE",
    "outputId": "a9cc9105-5c2e-4320-aa55-c8f2f1ae0c41"
   },
   "outputs": [
    {
     "name": "stdout",
     "output_type": "stream",
     "text": [
      "User-based With KNNWithMeans Model\n",
      "RMSE: 0.3989\n",
      "RMSE: 2.6100\n"
     ]
    },
    {
     "data": {
      "text/plain": [
       "2.6099995006825756"
      ]
     },
     "execution_count": 37,
     "metadata": {},
     "output_type": "execute_result"
    }
   ],
   "source": [
    "# RMSE\n",
    "print(\"User-based With KNNWithMeans Model\")\n",
    "accuracy.rmse(train_pred_UB_Knn, verbose=True)\n",
    "accuracy.rmse(test_pred_UB_Knn, verbose=True)"
   ]
  },
  {
   "cell_type": "markdown",
   "metadata": {
    "id": "MpRCx5V89J_i"
   },
   "source": [
    "SVD model"
   ]
  },
  {
   "cell_type": "code",
   "execution_count": 38,
   "metadata": {
    "colab": {
     "base_uri": "https://localhost:8080/"
    },
    "executionInfo": {
     "elapsed": 641,
     "status": "ok",
     "timestamp": 1639241135063,
     "user": {
      "displayName": "Suv",
      "photoUrl": "https://lh3.googleusercontent.com/a/default-user=s64",
      "userId": "02586372588688823238"
     },
     "user_tz": -330
    },
    "id": "dp-hpoMO8box",
    "outputId": "7fb9cd8b-38ce-4153-a6ab-c4c023101231"
   },
   "outputs": [
    {
     "data": {
      "text/plain": [
       "<surprise.prediction_algorithms.matrix_factorization.SVD at 0x14bef5550>"
      ]
     },
     "execution_count": 38,
     "metadata": {},
     "output_type": "execute_result"
    }
   ],
   "source": [
    "## Building the SVD model\n",
    "\n",
    "from surprise import SVD\n",
    "\n",
    "svd_model = SVD(random_state=1)\n",
    "svd_model.fit(trainset)"
   ]
  },
  {
   "cell_type": "code",
   "execution_count": 39,
   "metadata": {
    "executionInfo": {
     "elapsed": 5,
     "status": "ok",
     "timestamp": 1639241136542,
     "user": {
      "displayName": "Suv",
      "photoUrl": "https://lh3.googleusercontent.com/a/default-user=s64",
      "userId": "02586372588688823238"
     },
     "user_tz": -330
    },
    "id": "bzWTP8mO-A12"
   },
   "outputs": [],
   "source": [
    "train_pred_svd_model = svd_model.test(trainset.build_testset())\n",
    "\n",
    "test_pred_svd_model = svd_model.test(testset)"
   ]
  },
  {
   "cell_type": "markdown",
   "metadata": {
    "id": "q9m4ksaB-kek"
   },
   "source": [
    "5. Evaluate the collaborative model. Print RMSE value."
   ]
  },
  {
   "cell_type": "code",
   "execution_count": 40,
   "metadata": {
    "colab": {
     "base_uri": "https://localhost:8080/"
    },
    "executionInfo": {
     "elapsed": 699,
     "status": "ok",
     "timestamp": 1639241138413,
     "user": {
      "displayName": "Suv",
      "photoUrl": "https://lh3.googleusercontent.com/a/default-user=s64",
      "userId": "02586372588688823238"
     },
     "user_tz": -330
    },
    "id": "LarVePES-IAo",
    "outputId": "e54d9e2a-9e3e-4bf0-c08e-8006f41f1dee"
   },
   "outputs": [
    {
     "name": "stdout",
     "output_type": "stream",
     "text": [
      "SVD Model\n",
      "RMSE: 1.6445\n",
      "RMSE: 2.5671\n"
     ]
    },
    {
     "data": {
      "text/plain": [
       "2.567079387469964"
      ]
     },
     "execution_count": 40,
     "metadata": {},
     "output_type": "execute_result"
    }
   ],
   "source": [
    "print(\"SVD Model\")\n",
    "accuracy.rmse(train_pred_svd_model)\n",
    "\n",
    "accuracy.rmse(test_pred_svd_model)\n"
   ]
  },
  {
   "cell_type": "markdown",
   "metadata": {
    "id": "rQxo6bXW--tQ"
   },
   "source": [
    "6. Predict score (average rating) for test users.\n",
    "\n",
    "\n"
   ]
  },
  {
   "cell_type": "code",
   "execution_count": 41,
   "metadata": {
    "colab": {
     "base_uri": "https://localhost:8080/"
    },
    "executionInfo": {
     "elapsed": 396,
     "status": "ok",
     "timestamp": 1639241526143,
     "user": {
      "displayName": "Suv",
      "photoUrl": "https://lh3.googleusercontent.com/a/default-user=s64",
      "userId": "02586372588688823238"
     },
     "user_tz": -330
    },
    "id": "wE_vgBfY2oAc",
    "outputId": "97f2a54e-e1c6-4807-d4d9-53a108986592"
   },
   "outputs": [
    {
     "data": {
      "text/plain": [
       "8.0225"
      ]
     },
     "execution_count": 41,
     "metadata": {},
     "output_type": "execute_result"
    }
   ],
   "source": [
    "## SVD model test\n",
    "\n",
    "svd_pred = svd_model.predict('ruga', 'Sony Xperia Z2 (Black)')\n",
    "\n",
    "svd_pred.est\n"
   ]
  },
  {
   "cell_type": "code",
   "execution_count": 42,
   "metadata": {
    "colab": {
     "base_uri": "https://localhost:8080/"
    },
    "executionInfo": {
     "elapsed": 392,
     "status": "ok",
     "timestamp": 1639241422535,
     "user": {
      "displayName": "Suv",
      "photoUrl": "https://lh3.googleusercontent.com/a/default-user=s64",
      "userId": "02586372588688823238"
     },
     "user_tz": -330
    },
    "id": "-L3499PA2oFZ",
    "outputId": "72938f14-4da8-4b75-8c1a-2bbc8ba8d2fc"
   },
   "outputs": [
    {
     "data": {
      "text/plain": [
       "8.0225"
      ]
     },
     "execution_count": 42,
     "metadata": {},
     "output_type": "execute_result"
    }
   ],
   "source": [
    "## CF -- user based\n",
    "\n",
    "userBased_pred = algo_userBased.predict('ruga', 'Sony Xperia Z2 (Black)')\n",
    "\n",
    "userBased_pred.est\n"
   ]
  },
  {
   "cell_type": "code",
   "execution_count": 43,
   "metadata": {
    "colab": {
     "base_uri": "https://localhost:8080/"
    },
    "executionInfo": {
     "elapsed": 380,
     "status": "ok",
     "timestamp": 1639244325662,
     "user": {
      "displayName": "Suv",
      "photoUrl": "https://lh3.googleusercontent.com/a/default-user=s64",
      "userId": "02586372588688823238"
     },
     "user_tz": -330
    },
    "id": "DmC0SWg-2oJg",
    "outputId": "45c1309c-e2c0-4a3c-8661-71564066b314"
   },
   "outputs": [
    {
     "data": {
      "text/plain": [
       "8.0225"
      ]
     },
     "execution_count": 43,
     "metadata": {},
     "output_type": "execute_result"
    }
   ],
   "source": [
    "## CF -- item based\n",
    "\n",
    "itemBased_pred = algo_itemBased.predict('ruga', 'Sony Xperia Z2 (Black)')\n",
    "\n",
    "itemBased_pred.est\n"
   ]
  },
  {
   "cell_type": "markdown",
   "metadata": {
    "id": "4KTomdC1_hYZ"
   },
   "source": [
    "7. Report your findings and inferences.\n"
   ]
  },
  {
   "cell_type": "code",
   "execution_count": 44,
   "metadata": {
    "id": "C2_yB9wp_irD"
   },
   "outputs": [],
   "source": [
    "## 1. RMSE is almost same in all the models, and its a bit lower side, so the accuracy of the model is pretty good.\n",
    "## 2. RMSE of test > RMSE of train => OVER FITTING of the data.\n",
    "## 3. The data set might need more fine tuning.   \n",
    "\n",
    "## 4.  In the testing, item based, user based models predicted exactly 8 score\n",
    "\n"
   ]
  },
  {
   "cell_type": "markdown",
   "metadata": {
    "id": "rOboktz5_loe"
   },
   "source": [
    "8. Try and recommend top 5 products for test users.\n",
    "\n"
   ]
  },
  {
   "cell_type": "code",
   "execution_count": 45,
   "metadata": {},
   "outputs": [],
   "source": [
    "## Creating a new numerical columns for user and products to do the ranking\n",
    "\n",
    "data_randomly_selected['author_id'] = pd.factorize(data_randomly_selected['author'])[0]\n",
    "data_randomly_selected['product_id'] = pd.factorize(data_randomly_selected['author'])[0]"
   ]
  },
  {
   "cell_type": "code",
   "execution_count": 46,
   "metadata": {},
   "outputs": [
    {
     "data": {
      "text/html": [
       "<div>\n",
       "<style scoped>\n",
       "    .dataframe tbody tr th:only-of-type {\n",
       "        vertical-align: middle;\n",
       "    }\n",
       "\n",
       "    .dataframe tbody tr th {\n",
       "        vertical-align: top;\n",
       "    }\n",
       "\n",
       "    .dataframe thead th {\n",
       "        text-align: right;\n",
       "    }\n",
       "</style>\n",
       "<table border=\"1\" class=\"dataframe\">\n",
       "  <thead>\n",
       "    <tr style=\"text-align: right;\">\n",
       "      <th></th>\n",
       "      <th>product_id</th>\n",
       "      <th>score</th>\n",
       "    </tr>\n",
       "  </thead>\n",
       "  <tbody>\n",
       "    <tr>\n",
       "      <th>0</th>\n",
       "      <td>0</td>\n",
       "      <td>1</td>\n",
       "    </tr>\n",
       "    <tr>\n",
       "      <th>1</th>\n",
       "      <td>1</td>\n",
       "      <td>1</td>\n",
       "    </tr>\n",
       "    <tr>\n",
       "      <th>2</th>\n",
       "      <td>2</td>\n",
       "      <td>1</td>\n",
       "    </tr>\n",
       "    <tr>\n",
       "      <th>3</th>\n",
       "      <td>3</td>\n",
       "      <td>1</td>\n",
       "    </tr>\n",
       "    <tr>\n",
       "      <th>4</th>\n",
       "      <td>4</td>\n",
       "      <td>15</td>\n",
       "    </tr>\n",
       "  </tbody>\n",
       "</table>\n",
       "</div>"
      ],
      "text/plain": [
       "   product_id  score\n",
       "0           0      1\n",
       "1           1      1\n",
       "2           2      1\n",
       "3           3      1\n",
       "4           4     15"
      ]
     },
     "execution_count": 46,
     "metadata": {},
     "output_type": "execute_result"
    }
   ],
   "source": [
    "#Count of author_id for each unique product \n",
    "\n",
    "train_data_grouped = data_randomly_selected.groupby('product_id').agg({'author_id': 'count'}).reset_index()\n",
    "train_data_grouped.rename(columns = {'author_id': 'score'},inplace=True)\n",
    "train_data_grouped.head()"
   ]
  },
  {
   "cell_type": "code",
   "execution_count": 47,
   "metadata": {},
   "outputs": [
    {
     "data": {
      "text/html": [
       "<div>\n",
       "<style scoped>\n",
       "    .dataframe tbody tr th:only-of-type {\n",
       "        vertical-align: middle;\n",
       "    }\n",
       "\n",
       "    .dataframe tbody tr th {\n",
       "        vertical-align: top;\n",
       "    }\n",
       "\n",
       "    .dataframe thead th {\n",
       "        text-align: right;\n",
       "    }\n",
       "</style>\n",
       "<table border=\"1\" class=\"dataframe\">\n",
       "  <thead>\n",
       "    <tr style=\"text-align: right;\">\n",
       "      <th></th>\n",
       "      <th>product_id</th>\n",
       "      <th>score</th>\n",
       "      <th>Rank</th>\n",
       "    </tr>\n",
       "  </thead>\n",
       "  <tbody>\n",
       "    <tr>\n",
       "      <th>19</th>\n",
       "      <td>19</td>\n",
       "      <td>287</td>\n",
       "      <td>1.0</td>\n",
       "    </tr>\n",
       "    <tr>\n",
       "      <th>8</th>\n",
       "      <td>8</td>\n",
       "      <td>77</td>\n",
       "      <td>2.0</td>\n",
       "    </tr>\n",
       "    <tr>\n",
       "      <th>221</th>\n",
       "      <td>221</td>\n",
       "      <td>37</td>\n",
       "      <td>3.0</td>\n",
       "    </tr>\n",
       "    <tr>\n",
       "      <th>393</th>\n",
       "      <td>393</td>\n",
       "      <td>22</td>\n",
       "      <td>4.0</td>\n",
       "    </tr>\n",
       "    <tr>\n",
       "      <th>4</th>\n",
       "      <td>4</td>\n",
       "      <td>15</td>\n",
       "      <td>5.0</td>\n",
       "    </tr>\n",
       "  </tbody>\n",
       "</table>\n",
       "</div>"
      ],
      "text/plain": [
       "     product_id  score  Rank\n",
       "19           19    287   1.0\n",
       "8             8     77   2.0\n",
       "221         221     37   3.0\n",
       "393         393     22   4.0\n",
       "4             4     15   5.0"
      ]
     },
     "execution_count": 47,
     "metadata": {},
     "output_type": "execute_result"
    }
   ],
   "source": [
    "#Sort the products on recommendation score \n",
    "train_data_sort = train_data_grouped.sort_values(['score', 'product_id'], ascending = [0,1]) \n",
    "      \n",
    "#Generate a recommendation rank based upon score \n",
    "train_data_sort['Rank'] = train_data_sort['score'].rank(ascending=0, method='first') \n",
    "          \n",
    "#Get the top 5 recommendations \n",
    "popularity_recommendations = train_data_sort.head(5) \n",
    "popularity_recommendations "
   ]
  },
  {
   "cell_type": "code",
   "execution_count": 48,
   "metadata": {
    "executionInfo": {
     "elapsed": 614,
     "status": "ok",
     "timestamp": 1639250947895,
     "user": {
      "displayName": "Suv",
      "photoUrl": "https://lh3.googleusercontent.com/a/default-user=s64",
      "userId": "02586372588688823238"
     },
     "user_tz": -330
    },
    "id": "fnGPJvij_dSy"
   },
   "outputs": [],
   "source": [
    "def recommend(author_id):     \n",
    "    user_recommendations = popularity_recommendations \n",
    "          \n",
    "    #Add author_id column for which the recommendations are being generated \n",
    "    user_recommendations['authorID'] = author_id \n",
    "      \n",
    "    #Bring author_id column to the front \n",
    "    cols = user_recommendations.columns.tolist() \n",
    "    cols = cols[-1:] + cols[:-1] \n",
    "    user_recommendations = user_recommendations[cols] \n",
    "          \n",
    "    return user_recommendations "
   ]
  },
  {
   "cell_type": "code",
   "execution_count": 49,
   "metadata": {
    "id": "GnKGOuLN2miA"
   },
   "outputs": [
    {
     "name": "stdout",
     "output_type": "stream",
     "text": [
      "Here is the recommendation for the userId: 1222473\n",
      "\n",
      "     authorID  product_id  score  Rank\n",
      "19    1222473          19    287   1.0\n",
      "8     1222473           8     77   2.0\n",
      "221   1222473         221     37   3.0\n",
      "393   1222473         393     22   4.0\n",
      "4     1222473           4     15   5.0\n",
      "\n",
      "\n"
     ]
    }
   ],
   "source": [
    "find_recom = [1222473]   # This list is user choice.\n",
    "for i in find_recom:\n",
    "    print(\"Here is the recommendation for the userId: %d\\n\" %(i))\n",
    "    print(recommend(i))    \n",
    "    print(\"\\n\") "
   ]
  },
  {
   "cell_type": "code",
   "execution_count": null,
   "metadata": {
    "id": "RrVzGnXg2moa"
   },
   "outputs": [],
   "source": [
    "find_recom = [1222473]   # This list is user choice."
   ]
  },
  {
   "cell_type": "code",
   "execution_count": null,
   "metadata": {
    "id": "pXKQO_iL081F"
   },
   "outputs": [],
   "source": []
  },
  {
   "cell_type": "markdown",
   "metadata": {
    "id": "qugUvkHA2h7K"
   },
   "source": [
    "9. Try cross validation techniques to get better results."
   ]
  },
  {
   "cell_type": "code",
   "execution_count": 50,
   "metadata": {
    "colab": {
     "base_uri": "https://localhost:8080/",
     "height": 571
    },
    "executionInfo": {
     "elapsed": 4399,
     "status": "ok",
     "timestamp": 1639166610360,
     "user": {
      "displayName": "Suv",
      "photoUrl": "https://lh3.googleusercontent.com/a/default-user=s64",
      "userId": "02586372588688823238"
     },
     "user_tz": -330
    },
    "id": "BCe2eNP62k8m",
    "outputId": "efd4d67a-c845-4656-99e3-52d52f107203"
   },
   "outputs": [
    {
     "name": "stdout",
     "output_type": "stream",
     "text": [
      "Estimating biases using als...\n",
      "Computing the msd similarity matrix...\n",
      "Done computing similarity matrix.\n",
      "Estimating biases using als...\n",
      "Computing the msd similarity matrix...\n",
      "Done computing similarity matrix.\n",
      "Estimating biases using als...\n",
      "Computing the msd similarity matrix...\n",
      "Done computing similarity matrix.\n",
      "Computing the msd similarity matrix...\n",
      "Done computing similarity matrix.\n",
      "Computing the msd similarity matrix...\n",
      "Done computing similarity matrix.\n",
      "Computing the msd similarity matrix...\n",
      "Done computing similarity matrix.\n",
      "Computing the msd similarity matrix...\n",
      "Done computing similarity matrix.\n",
      "Computing the msd similarity matrix...\n",
      "Done computing similarity matrix.\n",
      "Computing the msd similarity matrix...\n",
      "Done computing similarity matrix.\n"
     ]
    },
    {
     "data": {
      "text/html": [
       "<div>\n",
       "<style scoped>\n",
       "    .dataframe tbody tr th:only-of-type {\n",
       "        vertical-align: middle;\n",
       "    }\n",
       "\n",
       "    .dataframe tbody tr th {\n",
       "        vertical-align: top;\n",
       "    }\n",
       "\n",
       "    .dataframe thead th {\n",
       "        text-align: right;\n",
       "    }\n",
       "</style>\n",
       "<table border=\"1\" class=\"dataframe\">\n",
       "  <thead>\n",
       "    <tr style=\"text-align: right;\">\n",
       "      <th></th>\n",
       "      <th>test_rmse</th>\n",
       "      <th>fit_time</th>\n",
       "      <th>test_time</th>\n",
       "    </tr>\n",
       "    <tr>\n",
       "      <th>Algorithm</th>\n",
       "      <th></th>\n",
       "      <th></th>\n",
       "      <th></th>\n",
       "    </tr>\n",
       "  </thead>\n",
       "  <tbody>\n",
       "    <tr>\n",
       "      <th>SVD</th>\n",
       "      <td>2.576176</td>\n",
       "      <td>0.741089</td>\n",
       "      <td>0.022270</td>\n",
       "    </tr>\n",
       "    <tr>\n",
       "      <th>KNNBaseline</th>\n",
       "      <td>2.592107</td>\n",
       "      <td>0.648114</td>\n",
       "      <td>0.035505</td>\n",
       "    </tr>\n",
       "    <tr>\n",
       "      <th>KNNBasic</th>\n",
       "      <td>2.604263</td>\n",
       "      <td>0.528776</td>\n",
       "      <td>0.032291</td>\n",
       "    </tr>\n",
       "    <tr>\n",
       "      <th>KNNWithMeans</th>\n",
       "      <td>2.617246</td>\n",
       "      <td>1.300878</td>\n",
       "      <td>0.144577</td>\n",
       "    </tr>\n",
       "  </tbody>\n",
       "</table>\n",
       "</div>"
      ],
      "text/plain": [
       "              test_rmse  fit_time  test_time\n",
       "Algorithm                                   \n",
       "SVD            2.576176  0.741089   0.022270\n",
       "KNNBaseline    2.592107  0.648114   0.035505\n",
       "KNNBasic       2.604263  0.528776   0.032291\n",
       "KNNWithMeans   2.617246  1.300878   0.144577"
      ]
     },
     "execution_count": 50,
     "metadata": {},
     "output_type": "execute_result"
    }
   ],
   "source": [
    "from surprise import KNNBaseline\n",
    "from surprise import KNNBasic\n",
    "from surprise.model_selection import cross_validate\n",
    "\n",
    "benchmark = []\n",
    "# Iterate over all algorithms\n",
    "for algorithm in [SVD(), KNNBaseline(), KNNBasic(), KNNWithMeans()]:\n",
    "    # Perform cross validation\n",
    "\n",
    "    results = cross_validate(algorithm, data_s, measures=['RMSE'], cv=3, verbose=False)\n",
    "    \n",
    "    # Get results & append algorithm name\n",
    "    tmp = pd.DataFrame.from_dict(results).mean(axis=0)\n",
    "    tmp = tmp.append(pd.Series([str(algorithm).split(' ')[0].split('.')[-1]], index=['Algorithm']))\n",
    "    benchmark.append(tmp)\n",
    "    \n",
    "pd.DataFrame(benchmark).set_index('Algorithm').sort_values('test_rmse')    "
   ]
  },
  {
   "cell_type": "markdown",
   "metadata": {
    "id": "1JT77mfT1EXY"
   },
   "source": [
    "10. In what business scenario you should use popularity based Recommendation Systems ?"
   ]
  },
  {
   "cell_type": "code",
   "execution_count": 51,
   "metadata": {
    "id": "VlY-50VJ1GOq"
   },
   "outputs": [],
   "source": [
    "## If the user/product is very new and we know nothing about the product or the user, then we would be using the popularity based recommended systems"
   ]
  },
  {
   "cell_type": "markdown",
   "metadata": {
    "id": "f1Mh-gct1RMB"
   },
   "source": [
    "11. In what business scenario you should use CF based Recommendation Systems ?"
   ]
  },
  {
   "cell_type": "code",
   "execution_count": 52,
   "metadata": {
    "id": "hTHmicPn1Vuo"
   },
   "outputs": [],
   "source": [
    "##If we need to recommend users some items, or if we would like the items to be sold to the users, then we would be using this \n",
    "## like amazon, netflix, uses this recommendation system "
   ]
  },
  {
   "cell_type": "markdown",
   "metadata": {
    "id": "V6so4Rmg1697"
   },
   "source": [
    "12. What other possible methods can you think of which can further improve the recommendation for different users ?"
   ]
  },
  {
   "cell_type": "code",
   "execution_count": 53,
   "metadata": {
    "id": "vVqV3PAN2AVO"
   },
   "outputs": [],
   "source": [
    "## we could use hybrid approach, like having both CF based and popularity based recommendation\n",
    "## we could use content based, if they are new user, or if the product is new one, we could use this one."
   ]
  }
 ],
 "metadata": {
  "accelerator": "TPU",
  "colab": {
   "authorship_tag": "ABX9TyMvpoR62v9+Tj5IFwmlgrG4",
   "collapsed_sections": [],
   "mount_file_id": "1EwYNZx3EfNZzE-BOegCH9QcAVS20e7oe",
   "name": "Recommendation.ipynb",
   "provenance": []
  },
  "kernelspec": {
   "display_name": "Python 3",
   "language": "python",
   "name": "python3"
  },
  "language_info": {
   "codemirror_mode": {
    "name": "ipython",
    "version": 3
   },
   "file_extension": ".py",
   "mimetype": "text/x-python",
   "name": "python",
   "nbconvert_exporter": "python",
   "pygments_lexer": "ipython3",
   "version": "3.8.5"
  }
 },
 "nbformat": 4,
 "nbformat_minor": 1
}
